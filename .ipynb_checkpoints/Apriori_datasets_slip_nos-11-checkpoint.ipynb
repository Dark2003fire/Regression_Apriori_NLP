{
 "cells": [
  {
   "cell_type": "markdown",
   "id": "ada69fd5",
   "metadata": {},
   "source": [
    "Create the following dataset in python & Convert the categorical values into numeric format.Apply \n",
    "the apriori algorithm on the above dataset to generate the frequent itemsets and associationrules. Repeat \n",
    "the process with different min_sup values.\n",
    "TID Items\n",
    "1 butter, bread, milk \n",
    "2 butter, flour, milk, sugar\n",
    "3 butter, eggs, milk, salt\n",
    "4 eggs\n",
    "5 butter, flour, milk, sal"
   ]
  },
  {
   "cell_type": "code",
   "execution_count": 1,
   "id": "8f46fa59",
   "metadata": {},
   "outputs": [],
   "source": [
    "import pandas as pd\n",
    "\n",
    "from mlxtend.preprocessing import TransactionEncoder\n",
    "\n",
    "from mlxtend.frequent_patterns import apriori\n",
    "\n",
    "from mlxtend.frequent_patterns import association_rules\n"
   ]
  },
  {
   "cell_type": "code",
   "execution_count": 2,
   "id": "a62af834",
   "metadata": {},
   "outputs": [],
   "source": [
    "#Create Dataset\n",
    "dataset = [\n",
    "    \n",
    "        [\"butter\" , \"bread\" , \"Milk\"] ,\n",
    "        [\"butter\" , \"flour\" , \"Milk\" , \"Sagar\"] ,\n",
    "        [\"butter\" ,\"eggs\" , \"milk\" ,\"salt\"] ,\n",
    "        [\"eggs\"], \n",
    "        [\"butter\" , \"flour\" ,\"milk\" , \"Salt\"],\n",
    "    \n",
    "    \n",
    "]"
   ]
  },
  {
   "cell_type": "code",
   "execution_count": 3,
   "id": "b0306d48",
   "metadata": {},
   "outputs": [],
   "source": [
    "#Convert the list to dataframe with boolean Vlaues\n",
    "\n",
    "te = TransactionEncoder()\n",
    "\n",
    "te_array = te.fit(dataset).transform(dataset)\n",
    "\n",
    "df = pd.DataFrame(te_array , columns = te.columns_)"
   ]
  },
  {
   "cell_type": "code",
   "execution_count": 4,
   "id": "bedb1a3a",
   "metadata": {},
   "outputs": [
    {
     "name": "stdout",
     "output_type": "stream",
     "text": [
      "Result after Preprocessing\n",
      "    Milk  Sagar   Salt  bread  butter   eggs  flour   milk   salt\n",
      "0   True  False  False   True    True  False  False  False  False\n",
      "1   True   True  False  False    True  False   True  False  False\n",
      "2  False  False  False  False    True   True  False   True   True\n",
      "3  False  False  False  False   False   True  False  False  False\n",
      "4  False  False   True  False    True  False   True   True  False\n"
     ]
    }
   ],
   "source": [
    "#Result after Preprocessing\n",
    "\n",
    "print(\"Result after Preprocessing\")\n",
    "\n",
    "print(df)"
   ]
  },
  {
   "cell_type": "code",
   "execution_count": 5,
   "id": "b5cdccaa",
   "metadata": {},
   "outputs": [
    {
     "name": "stdout",
     "output_type": "stream",
     "text": [
      "\n",
      " Results after Applying  apriori Alogorithm\n",
      "    support                      itemsets\n",
      "0       0.4                        (Milk)\n",
      "1       0.2                       (Sagar)\n",
      "2       0.2                        (Salt)\n",
      "3       0.2                       (bread)\n",
      "4       0.8                      (butter)\n",
      "5       0.4                        (eggs)\n",
      "6       0.4                       (flour)\n",
      "7       0.4                        (milk)\n",
      "8       0.2                        (salt)\n",
      "9       0.2                 (Milk, Sagar)\n",
      "10      0.2                 (bread, Milk)\n",
      "11      0.4                (butter, Milk)\n",
      "12      0.2                 (flour, Milk)\n",
      "13      0.2               (butter, Sagar)\n",
      "14      0.2                (flour, Sagar)\n",
      "15      0.2                (butter, Salt)\n",
      "16      0.2                 (flour, Salt)\n",
      "17      0.2                  (Salt, milk)\n",
      "18      0.2               (bread, butter)\n",
      "19      0.2                (eggs, butter)\n",
      "20      0.4               (butter, flour)\n",
      "21      0.4                (butter, milk)\n",
      "22      0.2                (salt, butter)\n",
      "23      0.2                  (eggs, milk)\n",
      "24      0.2                  (eggs, salt)\n",
      "25      0.2                 (flour, milk)\n",
      "26      0.2                  (salt, milk)\n",
      "27      0.2         (butter, Milk, Sagar)\n",
      "28      0.2          (flour, Milk, Sagar)\n",
      "29      0.2         (bread, butter, Milk)\n",
      "30      0.2         (butter, Milk, flour)\n",
      "31      0.2        (butter, Sagar, flour)\n",
      "32      0.2         (butter, Salt, flour)\n",
      "33      0.2          (butter, Salt, milk)\n",
      "34      0.2           (flour, Salt, milk)\n",
      "35      0.2          (eggs, butter, milk)\n",
      "36      0.2          (eggs, salt, butter)\n",
      "37      0.2         (butter, milk, flour)\n",
      "38      0.2          (salt, butter, milk)\n",
      "39      0.2            (eggs, salt, milk)\n",
      "40      0.2  (butter, Milk, Sagar, flour)\n",
      "41      0.2   (butter, Salt, milk, flour)\n",
      "42      0.2    (eggs, salt, butter, milk)\n"
     ]
    }
   ],
   "source": [
    "#Find the frequently occuring itemsets using Apriori Algorithm:-\n",
    "frequent_itemsets_ap = apriori(df ,min_support=0.01 ,use_colnames=True)\n",
    "\n",
    "print(\"\\n Results after Applying  apriori Alogorithm\")\n",
    "\n",
    "print(frequent_itemsets_ap)"
   ]
  },
  {
   "cell_type": "code",
   "execution_count": 6,
   "id": "c33a3106",
   "metadata": {},
   "outputs": [
    {
     "name": "stdout",
     "output_type": "stream",
     "text": [
      "\n",
      " Frequent 2 Item Sets\n",
      "    support                      itemsets  length\n",
      "9       0.2                 (Milk, Sagar)       2\n",
      "10      0.2                 (bread, Milk)       2\n",
      "11      0.4                (butter, Milk)       2\n",
      "12      0.2                 (flour, Milk)       2\n",
      "13      0.2               (butter, Sagar)       2\n",
      "14      0.2                (flour, Sagar)       2\n",
      "15      0.2                (butter, Salt)       2\n",
      "16      0.2                 (flour, Salt)       2\n",
      "17      0.2                  (Salt, milk)       2\n",
      "18      0.2               (bread, butter)       2\n",
      "19      0.2                (eggs, butter)       2\n",
      "20      0.4               (butter, flour)       2\n",
      "21      0.4                (butter, milk)       2\n",
      "22      0.2                (salt, butter)       2\n",
      "23      0.2                  (eggs, milk)       2\n",
      "24      0.2                  (eggs, salt)       2\n",
      "25      0.2                 (flour, milk)       2\n",
      "26      0.2                  (salt, milk)       2\n",
      "27      0.2         (butter, Milk, Sagar)       3\n",
      "28      0.2          (flour, Milk, Sagar)       3\n",
      "29      0.2         (bread, butter, Milk)       3\n",
      "30      0.2         (butter, Milk, flour)       3\n",
      "31      0.2        (butter, Sagar, flour)       3\n",
      "32      0.2         (butter, Salt, flour)       3\n",
      "33      0.2          (butter, Salt, milk)       3\n",
      "34      0.2           (flour, Salt, milk)       3\n",
      "35      0.2          (eggs, butter, milk)       3\n",
      "36      0.2          (eggs, salt, butter)       3\n",
      "37      0.2         (butter, milk, flour)       3\n",
      "38      0.2          (salt, butter, milk)       3\n",
      "39      0.2            (eggs, salt, milk)       3\n",
      "40      0.2  (butter, Milk, Sagar, flour)       4\n",
      "41      0.2   (butter, Salt, milk, flour)       4\n",
      "42      0.2    (eggs, salt, butter, milk)       4\n",
      "\n",
      " Frequent 3 Item sets\n",
      "    support                      itemsets  length\n",
      "27      0.2         (butter, Milk, Sagar)       3\n",
      "28      0.2          (flour, Milk, Sagar)       3\n",
      "29      0.2         (bread, butter, Milk)       3\n",
      "30      0.2         (butter, Milk, flour)       3\n",
      "31      0.2        (butter, Sagar, flour)       3\n",
      "32      0.2         (butter, Salt, flour)       3\n",
      "33      0.2          (butter, Salt, milk)       3\n",
      "34      0.2           (flour, Salt, milk)       3\n",
      "35      0.2          (eggs, butter, milk)       3\n",
      "36      0.2          (eggs, salt, butter)       3\n",
      "37      0.2         (butter, milk, flour)       3\n",
      "38      0.2          (salt, butter, milk)       3\n",
      "39      0.2            (eggs, salt, milk)       3\n",
      "40      0.2  (butter, Milk, Sagar, flour)       4\n",
      "41      0.2   (butter, Salt, milk, flour)       4\n",
      "42      0.2    (eggs, salt, butter, milk)       4\n",
      "\n",
      " Frequent 4 Item sets\n",
      "    support                      itemsets  length\n",
      "40      0.2  (butter, Milk, Sagar, flour)       4\n",
      "41      0.2   (butter, Salt, milk, flour)       4\n",
      "42      0.2    (eggs, salt, butter, milk)       4\n"
     ]
    }
   ],
   "source": [
    "#Mine the Association Rules\n",
    "\n",
    "rules_ap = association_rules(frequent_itemsets_ap , metric=\"confidence\" , min_threshold=0.8)\n",
    "\n",
    "frequent_itemsets_ap['length'] = frequent_itemsets_ap['itemsets'].apply(lambda x: len(x))\n",
    "print(\"\\n Frequent 2 Item Sets\")\n",
    "\n",
    "print(frequent_itemsets_ap[frequent_itemsets_ap['length']>=2])\n",
    "\n",
    "print(\"\\n Frequent 3 Item sets\")\n",
    "\n",
    "print(frequent_itemsets_ap[frequent_itemsets_ap['length']>=3])\n",
    "\n",
    "\n",
    "print(\"\\n Frequent 4 Item sets\")\n",
    "\n",
    "print(frequent_itemsets_ap[frequent_itemsets_ap['length']>=4])"
   ]
  },
  {
   "cell_type": "code",
   "execution_count": null,
   "id": "5978109c",
   "metadata": {},
   "outputs": [],
   "source": []
  }
 ],
 "metadata": {
  "kernelspec": {
   "display_name": "Python 3 (ipykernel)",
   "language": "python",
   "name": "python3"
  },
  "language_info": {
   "codemirror_mode": {
    "name": "ipython",
    "version": 3
   },
   "file_extension": ".py",
   "mimetype": "text/x-python",
   "name": "python",
   "nbconvert_exporter": "python",
   "pygments_lexer": "ipython3",
   "version": "3.9.7"
  }
 },
 "nbformat": 4,
 "nbformat_minor": 5
}
