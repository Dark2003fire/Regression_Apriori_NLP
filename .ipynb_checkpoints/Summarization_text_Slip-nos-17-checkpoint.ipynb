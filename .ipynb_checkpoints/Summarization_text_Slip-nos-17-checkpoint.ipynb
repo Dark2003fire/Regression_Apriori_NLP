{
 "cells": [
  {
   "cell_type": "markdown",
   "id": "5d645d53",
   "metadata": {},
   "source": [
    "Consider text paragraph.So, keep working. Keep striving. Never give up. Fall down seven times, get \n",
    "up eight. Ease is a greater threat to progress than hardship. Ease is a greater threat to progress than \n",
    "hardship. So, keep moving, keep growing, keep learning. See you at work.Preprocess the text to remove \n",
    "any special characters and digits. Generate the summary using extractive summarization process"
   ]
  },
  {
   "cell_type": "code",
   "execution_count": 20,
   "id": "86c82ac7",
   "metadata": {},
   "outputs": [],
   "source": [
    "# importing libraries\n",
    "import nltk\n",
    "from nltk.corpus import stopwords\n",
    "from nltk.tokenize import word_tokenize, sent_tokenize\n",
    "\n"
   ]
  },
  {
   "cell_type": "code",
   "execution_count": 21,
   "id": "8128fbea",
   "metadata": {},
   "outputs": [],
   "source": [
    "# Input text - to summarize\n",
    "text = \"\"\" keep working. Keep striving. Never give up. Fall down seven times, get \n",
    "up eight. Ease is a greater threat to progress than hardship. Ease is a greater threat to progress than \n",
    "hardship. So, keep moving, keep growing, keep learning. See you at work\"\"\"\n"
   ]
  },
  {
   "cell_type": "code",
   "execution_count": 23,
   "id": "4636f8af",
   "metadata": {},
   "outputs": [],
   "source": [
    "\n",
    "# Tokenizing the text\n",
    "stopWords = set(stopwords.words(\"english\"))\n",
    "words = word_tokenize(text)\n"
   ]
  },
  {
   "cell_type": "code",
   "execution_count": 24,
   "id": "7c786f3d",
   "metadata": {},
   "outputs": [],
   "source": [
    "# Creating a frequency table to keep the\n",
    "# score of each word\n",
    "\n",
    "freqTable = dict()\n",
    "for word in words:\n",
    "    word = word.lower()\n",
    "    if word in stopWords:\n",
    "        continue\n",
    "    if word in freqTable:\n",
    "        freqTable[word] += 1\n",
    "    else:\n",
    "        freqTable[word] = 1\n",
    "        "
   ]
  },
  {
   "cell_type": "code",
   "execution_count": 25,
   "id": "7b2441df",
   "metadata": {},
   "outputs": [],
   "source": [
    "# Creating a dictionary to keep the score\n",
    "# of each sentence\n",
    "sentences = sent_tokenize(text)\n",
    "sentenceValue = dict()\n",
    "\n",
    "for sentence in sentences:\n",
    "    for word, freq in freqTable.items():\n",
    "        if word in sentence.lower():\n",
    "            if sentence in sentenceValue:\n",
    "                sentenceValue[sentence] += freq\n",
    "            else:\n",
    "                sentenceValue[sentence] = freq\n",
    "\n",
    "\n",
    "\n",
    "sumValues = 0\n",
    "for sentence in sentenceValue:\n",
    "    sumValues += sentenceValue[sentence]\n",
    "    \n",
    "    \n",
    "        "
   ]
  },
  {
   "cell_type": "code",
   "execution_count": 26,
   "id": "06a9d67d",
   "metadata": {},
   "outputs": [],
   "source": [
    "# Average value of a sentence from the original text\n",
    "\n",
    "average = int(sumValues / len(sentenceValue))\n"
   ]
  },
  {
   "cell_type": "code",
   "execution_count": 27,
   "id": "0ad1b7de",
   "metadata": {},
   "outputs": [
    {
     "name": "stdout",
     "output_type": "stream",
     "text": [
      " Fall down seven times, get \n",
      "up eight. Ease is a greater threat to progress than hardship. Ease is a greater threat to progress than \n",
      "hardship. So, keep moving, keep growing, keep learning.\n"
     ]
    }
   ],
   "source": [
    "# Storing sentences into our summary.\n",
    "summary = ''\n",
    "for sentence in sentences:\n",
    "    if (sentence in sentenceValue) and (sentenceValue[sentence] > (1.2 * average)):\n",
    "        summary += \" \" + sentence\n",
    "print(summary)\n",
    "\n",
    "    "
   ]
  },
  {
   "cell_type": "code",
   "execution_count": null,
   "id": "4f9598c3",
   "metadata": {},
   "outputs": [],
   "source": []
  }
 ],
 "metadata": {
  "kernelspec": {
   "display_name": "Python 3 (ipykernel)",
   "language": "python",
   "name": "python3"
  },
  "language_info": {
   "codemirror_mode": {
    "name": "ipython",
    "version": 3
   },
   "file_extension": ".py",
   "mimetype": "text/x-python",
   "name": "python",
   "nbconvert_exporter": "python",
   "pygments_lexer": "ipython3",
   "version": "3.9.7"
  }
 },
 "nbformat": 4,
 "nbformat_minor": 5
}
