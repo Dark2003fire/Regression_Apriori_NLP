{
 "cells": [
  {
   "cell_type": "markdown",
   "id": "a74d2039",
   "metadata": {},
   "source": [
    "Create the following dataset in python & Convert the categorical values into numeric format.Apply \n",
    "the apriori algorithm on the above dataset to generate the frequent itemsets and association rules. Repeat \n",
    "the process with different min_sup values.\n",
    "TID Items\n",
    "1 'Bread','Milk'\n",
    "2 'Bread', 'Diaper' , 'Beer' ,'Eggs'\n",
    "3 'Milk', 'Diaper' ,'Beer' , 'Coke'\n",
    "4 'Bread', 'Milk' , 'Diaper' ,'Beer'\n",
    "5 'Bread' ,'Milk' , 'Diaper' ,'Coke'\n",
    "\n"
   ]
  },
  {
   "cell_type": "code",
   "execution_count": 1,
   "id": "4f66309f",
   "metadata": {},
   "outputs": [],
   "source": [
    "import pandas as pd\n",
    "\n",
    "from mlxtend.preprocessing import TransactionEncoder\n",
    "\n",
    "from mlxtend.frequent_patterns import apriori\n",
    "\n",
    "from mlxtend.frequent_patterns import association_rules\n",
    "\n"
   ]
  },
  {
   "cell_type": "code",
   "execution_count": 2,
   "id": "0d94f75e",
   "metadata": {},
   "outputs": [],
   "source": [
    "#Create Dataset\n",
    "dataset = [\n",
    "    \n",
    "        [\"Bread\" , \"Milk\"] ,\n",
    "        [\"Bread\" , \"Diaper\" ,\"Beer\" ,\"Eggs\"] ,\n",
    "        [\"Milk\" ,\"Diaper\" ,\"Bread\" ,\"Coke\"] ,\n",
    "        [\"Bread\" ,\"Milk\" , \"Diaper\" ,\"Beer\"], \n",
    "        [\"Bread\" , \"Milk\" ,\"Diaper\" , \"Coke\"],\n",
    "]\n",
    "\n",
    "\n"
   ]
  },
  {
   "cell_type": "code",
   "execution_count": 5,
   "id": "17281d3d",
   "metadata": {},
   "outputs": [],
   "source": [
    "#Convert the list to dataframe with boolean Vlaues\n",
    "\n",
    "te = TransactionEncoder()\n",
    "\n",
    "te_array = te.fit(dataset).transform(dataset)\n",
    "\n",
    "df = pd.DataFrame(te_array , columns = te.columns_)\n"
   ]
  },
  {
   "cell_type": "code",
   "execution_count": 6,
   "id": "e13a826d",
   "metadata": {},
   "outputs": [
    {
     "name": "stdout",
     "output_type": "stream",
     "text": [
      "Result after Preprocessing\n",
      "    Beer  Bread   Coke  Diaper   Eggs   Milk\n",
      "0  False   True  False   False  False   True\n",
      "1   True   True  False    True   True  False\n",
      "2  False   True   True    True  False   True\n",
      "3   True   True  False    True  False   True\n",
      "4  False   True   True    True  False   True\n"
     ]
    }
   ],
   "source": [
    "#Result after Preprocessing\n",
    "\n",
    "print(\"Result after Preprocessing\")\n",
    "\n",
    "print(df)\n",
    "\n",
    "\n",
    "\n"
   ]
  },
  {
   "cell_type": "code",
   "execution_count": 8,
   "id": "5244a2ac",
   "metadata": {},
   "outputs": [
    {
     "name": "stdout",
     "output_type": "stream",
     "text": [
      "\n",
      " Results after Applying  apriori Alogorithm\n",
      "    support                     itemsets\n",
      "0       0.4                       (Beer)\n",
      "1       1.0                      (Bread)\n",
      "2       0.4                       (Coke)\n",
      "3       0.8                     (Diaper)\n",
      "4       0.2                       (Eggs)\n",
      "5       0.8                       (Milk)\n",
      "6       0.4                (Bread, Beer)\n",
      "7       0.4               (Diaper, Beer)\n",
      "8       0.2                 (Eggs, Beer)\n",
      "9       0.2                 (Milk, Beer)\n",
      "10      0.4                (Bread, Coke)\n",
      "11      0.8              (Bread, Diaper)\n",
      "12      0.2                (Bread, Eggs)\n",
      "13      0.8                (Bread, Milk)\n",
      "14      0.4               (Diaper, Coke)\n",
      "15      0.4                 (Milk, Coke)\n",
      "16      0.2               (Diaper, Eggs)\n",
      "17      0.6               (Diaper, Milk)\n",
      "18      0.4        (Bread, Diaper, Beer)\n",
      "19      0.2          (Bread, Eggs, Beer)\n",
      "20      0.2          (Milk, Bread, Beer)\n",
      "21      0.2         (Diaper, Eggs, Beer)\n",
      "22      0.2         (Milk, Diaper, Beer)\n",
      "23      0.4        (Bread, Diaper, Coke)\n",
      "24      0.4          (Milk, Bread, Coke)\n",
      "25      0.2        (Bread, Diaper, Eggs)\n",
      "26      0.6        (Bread, Diaper, Milk)\n",
      "27      0.4         (Milk, Diaper, Coke)\n",
      "28      0.2  (Bread, Diaper, Eggs, Beer)\n",
      "29      0.2  (Milk, Bread, Diaper, Beer)\n",
      "30      0.4  (Milk, Bread, Diaper, Coke)\n"
     ]
    }
   ],
   "source": [
    "#Find the frequently occuring itemsets using Apriori Algorithm:-\n",
    "frequent_itemsets_ap = apriori(df ,min_support=0.01 ,use_colnames=True)\n",
    "\n",
    "print(\"\\n Results after Applying  apriori Alogorithm\")\n",
    "\n",
    "print(frequent_itemsets_ap)\n"
   ]
  },
  {
   "cell_type": "code",
   "execution_count": 11,
   "id": "ad8cfc48",
   "metadata": {},
   "outputs": [
    {
     "name": "stdout",
     "output_type": "stream",
     "text": [
      "\n",
      " Frequent 2 Item Sets\n",
      "    support                     itemsets  length\n",
      "6       0.4                (Bread, Beer)       2\n",
      "7       0.4               (Diaper, Beer)       2\n",
      "8       0.2                 (Eggs, Beer)       2\n",
      "9       0.2                 (Milk, Beer)       2\n",
      "10      0.4                (Bread, Coke)       2\n",
      "11      0.8              (Bread, Diaper)       2\n",
      "12      0.2                (Bread, Eggs)       2\n",
      "13      0.8                (Bread, Milk)       2\n",
      "14      0.4               (Diaper, Coke)       2\n",
      "15      0.4                 (Milk, Coke)       2\n",
      "16      0.2               (Diaper, Eggs)       2\n",
      "17      0.6               (Diaper, Milk)       2\n",
      "18      0.4        (Bread, Diaper, Beer)       3\n",
      "19      0.2          (Bread, Eggs, Beer)       3\n",
      "20      0.2          (Milk, Bread, Beer)       3\n",
      "21      0.2         (Diaper, Eggs, Beer)       3\n",
      "22      0.2         (Milk, Diaper, Beer)       3\n",
      "23      0.4        (Bread, Diaper, Coke)       3\n",
      "24      0.4          (Milk, Bread, Coke)       3\n",
      "25      0.2        (Bread, Diaper, Eggs)       3\n",
      "26      0.6        (Bread, Diaper, Milk)       3\n",
      "27      0.4         (Milk, Diaper, Coke)       3\n",
      "28      0.2  (Bread, Diaper, Eggs, Beer)       4\n",
      "29      0.2  (Milk, Bread, Diaper, Beer)       4\n",
      "30      0.4  (Milk, Bread, Diaper, Coke)       4\n",
      "\n",
      " Frequent 3 Item sets\n",
      "    support                     itemsets  length\n",
      "18      0.4        (Bread, Diaper, Beer)       3\n",
      "19      0.2          (Bread, Eggs, Beer)       3\n",
      "20      0.2          (Milk, Bread, Beer)       3\n",
      "21      0.2         (Diaper, Eggs, Beer)       3\n",
      "22      0.2         (Milk, Diaper, Beer)       3\n",
      "23      0.4        (Bread, Diaper, Coke)       3\n",
      "24      0.4          (Milk, Bread, Coke)       3\n",
      "25      0.2        (Bread, Diaper, Eggs)       3\n",
      "26      0.6        (Bread, Diaper, Milk)       3\n",
      "27      0.4         (Milk, Diaper, Coke)       3\n",
      "28      0.2  (Bread, Diaper, Eggs, Beer)       4\n",
      "29      0.2  (Milk, Bread, Diaper, Beer)       4\n",
      "30      0.4  (Milk, Bread, Diaper, Coke)       4\n",
      "\n",
      " Frequent 4 Item sets\n",
      "    support                     itemsets  length\n",
      "28      0.2  (Bread, Diaper, Eggs, Beer)       4\n",
      "29      0.2  (Milk, Bread, Diaper, Beer)       4\n",
      "30      0.4  (Milk, Bread, Diaper, Coke)       4\n"
     ]
    }
   ],
   "source": [
    "#Mine the Association Rules\n",
    "\n",
    "rules_ap = association_rules(frequent_itemsets_ap , metric=\"confidence\" , min_threshold=0.8)\n",
    "\n",
    "frequent_itemsets_ap['length'] = frequent_itemsets_ap['itemsets'].apply(lambda x: len(x))\n",
    "print(\"\\n Frequent 2 Item Sets\")\n",
    "\n",
    "print(frequent_itemsets_ap[frequent_itemsets_ap['length']>=2])\n",
    "\n",
    "print(\"\\n Frequent 3 Item sets\")\n",
    "\n",
    "print(frequent_itemsets_ap[frequent_itemsets_ap['length']>=3])\n",
    "\n",
    "\n",
    "print(\"\\n Frequent 4 Item sets\")\n",
    "\n",
    "print(frequent_itemsets_ap[frequent_itemsets_ap['length']>=4])\n"
   ]
  },
  {
   "cell_type": "code",
   "execution_count": null,
   "id": "c45e0235",
   "metadata": {},
   "outputs": [],
   "source": []
  }
 ],
 "metadata": {
  "kernelspec": {
   "display_name": "Python 3 (ipykernel)",
   "language": "python",
   "name": "python3"
  },
  "language_info": {
   "codemirror_mode": {
    "name": "ipython",
    "version": 3
   },
   "file_extension": ".py",
   "mimetype": "text/x-python",
   "name": "python",
   "nbconvert_exporter": "python",
   "pygments_lexer": "ipython3",
   "version": "3.9.7"
  }
 },
 "nbformat": 4,
 "nbformat_minor": 5
}
