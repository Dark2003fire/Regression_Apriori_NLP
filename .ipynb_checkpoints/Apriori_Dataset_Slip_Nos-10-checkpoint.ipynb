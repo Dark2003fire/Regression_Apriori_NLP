{
 "cells": [
  {
   "cell_type": "markdown",
   "id": "e50e7060",
   "metadata": {},
   "source": [
    "Create the following dataset in python & Convert the categorical values into numeric format.Apply \n",
    "the apriori algorithm on the above dataset to generate the frequent itemsets and association rules. Repeat \n",
    "the process with different min_sup values. [Marks 15]\n",
    "TID Items\n",
    "1 'eggs', 'milk','bread'\n",
    "2 'eggs', 'apple'\n",
    "3 'milk', 'bread'\n",
    "4 'apple', 'milk'\n",
    "5 'milk', 'apple', 'bread"
   ]
  },
  {
   "cell_type": "code",
   "execution_count": 8,
   "id": "4034e1da",
   "metadata": {},
   "outputs": [],
   "source": [
    "import pandas as pd\n",
    "\n",
    "from mlxtend.preprocessing import TransactionEncoder\n",
    "\n",
    "from mlxtend.frequent_patterns import apriori\n",
    "\n",
    "from mlxtend.frequent_patterns import association_rules\n",
    "\n"
   ]
  },
  {
   "cell_type": "code",
   "execution_count": 9,
   "id": "737af4c2",
   "metadata": {},
   "outputs": [],
   "source": [
    "#Create Dataset\n",
    "dataset = [\n",
    "    \n",
    "        [\"Eggs\" , \"Milk\" , \"Bread\"] ,\n",
    "        [\"Eggs\" , \"Apple\"] ,\n",
    "        [\"Milk\" ,\"Bread\"] ,\n",
    "        [\"apple\" ,\"Milk\"], \n",
    "        [\"Milk\" , \"Apple\" ,\"Bread\"],\n",
    "    \n",
    "]"
   ]
  },
  {
   "cell_type": "code",
   "execution_count": 10,
   "id": "22f0e708",
   "metadata": {},
   "outputs": [],
   "source": [
    "#Convert the list to dataframe with boolean Vlaues\n",
    "\n",
    "te = TransactionEncoder()\n",
    "\n",
    "te_array = te.fit(dataset).transform(dataset)\n",
    "\n",
    "df = pd.DataFrame(te_array , columns = te.columns_)"
   ]
  },
  {
   "cell_type": "code",
   "execution_count": 11,
   "id": "2e39ea46",
   "metadata": {},
   "outputs": [
    {
     "name": "stdout",
     "output_type": "stream",
     "text": [
      "Result after Preprocessing\n",
      "   Apple  Bread   Eggs   Milk  apple\n",
      "0  False   True   True   True  False\n",
      "1   True  False   True  False  False\n",
      "2  False   True  False   True  False\n",
      "3  False  False  False   True   True\n",
      "4   True   True  False   True  False\n"
     ]
    }
   ],
   "source": [
    "#Result after Preprocessing\n",
    "\n",
    "print(\"Result after Preprocessing\")\n",
    "\n",
    "print(df)\n",
    "\n"
   ]
  },
  {
   "cell_type": "code",
   "execution_count": 12,
   "id": "03a339e5",
   "metadata": {},
   "outputs": [
    {
     "name": "stdout",
     "output_type": "stream",
     "text": [
      "\n",
      " Results after Applying  apriori Alogorithm\n",
      "    support              itemsets\n",
      "0       0.4               (Apple)\n",
      "1       0.6               (Bread)\n",
      "2       0.4                (Eggs)\n",
      "3       0.8                (Milk)\n",
      "4       0.2               (apple)\n",
      "5       0.2        (Apple, Bread)\n",
      "6       0.2         (Apple, Eggs)\n",
      "7       0.2         (Apple, Milk)\n",
      "8       0.2         (Eggs, Bread)\n",
      "9       0.6         (Milk, Bread)\n",
      "10      0.2          (Eggs, Milk)\n",
      "11      0.2         (apple, Milk)\n",
      "12      0.2  (Apple, Milk, Bread)\n",
      "13      0.2   (Eggs, Bread, Milk)\n"
     ]
    }
   ],
   "source": [
    "#Find the frequently occuring itemsets using Apriori Algorithm:-\n",
    "frequent_itemsets_ap = apriori(df ,min_support=0.01 ,use_colnames=True)\n",
    "\n",
    "print(\"\\n Results after Applying  apriori Alogorithm\")\n",
    "\n",
    "print(frequent_itemsets_ap)"
   ]
  },
  {
   "cell_type": "code",
   "execution_count": 13,
   "id": "116710e4",
   "metadata": {},
   "outputs": [
    {
     "name": "stdout",
     "output_type": "stream",
     "text": [
      "\n",
      " Frequent 2 Item Sets\n",
      "    support              itemsets  length\n",
      "5       0.2        (Apple, Bread)       2\n",
      "6       0.2         (Apple, Eggs)       2\n",
      "7       0.2         (Apple, Milk)       2\n",
      "8       0.2         (Eggs, Bread)       2\n",
      "9       0.6         (Milk, Bread)       2\n",
      "10      0.2          (Eggs, Milk)       2\n",
      "11      0.2         (apple, Milk)       2\n",
      "12      0.2  (Apple, Milk, Bread)       3\n",
      "13      0.2   (Eggs, Bread, Milk)       3\n",
      "\n",
      " Frequent 3 Item sets\n",
      "    support              itemsets  length\n",
      "12      0.2  (Apple, Milk, Bread)       3\n",
      "13      0.2   (Eggs, Bread, Milk)       3\n",
      "\n",
      " Frequent 4 Item sets\n",
      "Empty DataFrame\n",
      "Columns: [support, itemsets, length]\n",
      "Index: []\n"
     ]
    }
   ],
   "source": [
    "#Mine the Association Rules\n",
    "\n",
    "rules_ap = association_rules(frequent_itemsets_ap , metric=\"confidence\" , min_threshold=0.8)\n",
    "\n",
    "frequent_itemsets_ap['length'] = frequent_itemsets_ap['itemsets'].apply(lambda x: len(x))\n",
    "print(\"\\n Frequent 2 Item Sets\")\n",
    "\n",
    "print(frequent_itemsets_ap[frequent_itemsets_ap['length']>=2])\n",
    "\n",
    "print(\"\\n Frequent 3 Item sets\")\n",
    "\n",
    "print(frequent_itemsets_ap[frequent_itemsets_ap['length']>=3])\n",
    "\n",
    "\n",
    "print(\"\\n Frequent 4 Item sets\")\n",
    "\n",
    "print(frequent_itemsets_ap[frequent_itemsets_ap['length']>=4])"
   ]
  },
  {
   "cell_type": "code",
   "execution_count": null,
   "id": "3beb93f7",
   "metadata": {},
   "outputs": [],
   "source": []
  }
 ],
 "metadata": {
  "kernelspec": {
   "display_name": "Python 3 (ipykernel)",
   "language": "python",
   "name": "python3"
  },
  "language_info": {
   "codemirror_mode": {
    "name": "ipython",
    "version": 3
   },
   "file_extension": ".py",
   "mimetype": "text/x-python",
   "name": "python",
   "nbconvert_exporter": "python",
   "pygments_lexer": "ipython3",
   "version": "3.9.7"
  }
 },
 "nbformat": 4,
 "nbformat_minor": 5
}
