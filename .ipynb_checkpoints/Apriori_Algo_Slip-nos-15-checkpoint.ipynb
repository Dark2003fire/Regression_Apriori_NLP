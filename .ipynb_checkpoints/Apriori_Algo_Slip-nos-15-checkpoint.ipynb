{
 "cells": [
  {
   "cell_type": "markdown",
   "id": "62774c6e",
   "metadata": {},
   "source": [
    ")Create the following dataset in python & Convert the categorical values into numeric format.Apply \n",
    "the apriori algorithm on the above dataset to generate the frequent itemsets and association rules. Repeat \n",
    "the process with different min_sup values"
   ]
  },
  {
   "cell_type": "code",
   "execution_count": 1,
   "id": "6029375c",
   "metadata": {},
   "outputs": [],
   "source": [
    " import pandas as pd\n",
    "\n",
    "from mlxtend.preprocessing import TransactionEncoder\n",
    "\n",
    "from mlxtend.frequent_patterns import apriori\n",
    "\n",
    "from mlxtend.frequent_patterns import association_rules"
   ]
  },
  {
   "cell_type": "code",
   "execution_count": 2,
   "id": "feb5a604",
   "metadata": {},
   "outputs": [],
   "source": [
    "#Create Dataset\n",
    "dataset = {\n",
    "    \n",
    "    \n",
    "        'Company':['Tata' , 'MG', 'KIA' , 'Hyundai'] , \n",
    "        'Model': ['Nexon' , 'Altos' ,'Seltos' , 'Creta'], \n",
    "        'Year' : [2017 , 2021 , 2019 , 2015]  \n",
    "    \n",
    "}"
   ]
  },
  {
   "cell_type": "code",
   "execution_count": 5,
   "id": "4b245d60",
   "metadata": {},
   "outputs": [
    {
     "name": "stdout",
     "output_type": "stream",
     "text": [
      "   Company   Model  Year\n",
      "0     Tata   Nexon  2017\n",
      "1       MG   Altos  2021\n",
      "2      KIA  Seltos  2019\n",
      "3  Hyundai   Creta  2015\n"
     ]
    }
   ],
   "source": [
    "df = pd.DataFrame(dataset, index=['0',\n",
    "                               '1',\n",
    "                               '2',\n",
    "                               '3'])\n",
    "\n",
    "print(df)"
   ]
  },
  {
   "cell_type": "code",
   "execution_count": 6,
   "id": "3a19ca27",
   "metadata": {},
   "outputs": [],
   "source": [
    "#Convert the list to dataframe with boolean Vlaues\n",
    "\n",
    "te = TransactionEncoder()\n",
    "\n",
    "te_array = te.fit(df).transform(df)\n",
    "\n",
    "df = pd.DataFrame(te_array , columns = te.columns_)"
   ]
  },
  {
   "cell_type": "code",
   "execution_count": 7,
   "id": "25394dcd",
   "metadata": {},
   "outputs": [
    {
     "name": "stdout",
     "output_type": "stream",
     "text": [
      "Result after Preprocessing\n",
      "       C      M      Y      a      d      e      l      m      n      o  \\\n",
      "0   True  False  False   True  False  False  False   True   True   True   \n",
      "1  False   True  False  False   True   True   True  False  False   True   \n",
      "2  False  False   True   True  False   True  False  False  False  False   \n",
      "3  False  False  False  False  False  False  False  False  False  False   \n",
      "\n",
      "       p      r      y  \n",
      "0   True  False   True  \n",
      "1  False  False  False  \n",
      "2  False   True  False  \n",
      "3  False  False  False  \n"
     ]
    }
   ],
   "source": [
    "#Result after Preprocessing\n",
    "\n",
    "print(\"Result after Preprocessing\")\n",
    "\n",
    "print(df)"
   ]
  },
  {
   "cell_type": "code",
   "execution_count": 8,
   "id": "dc501e76",
   "metadata": {},
   "outputs": [
    {
     "name": "stdout",
     "output_type": "stream",
     "text": [
      "\n",
      " Results after Applying  apriori Alogorithm\n",
      "     support               itemsets\n",
      "0       0.25                    (C)\n",
      "1       0.25                    (M)\n",
      "2       0.25                    (Y)\n",
      "3       0.50                    (a)\n",
      "4       0.25                    (d)\n",
      "..       ...                    ...\n",
      "165     0.25     (p, m, y, a, C, o)\n",
      "166     0.25     (p, y, a, C, n, o)\n",
      "167     0.25     (p, m, y, C, n, o)\n",
      "168     0.25     (p, m, y, a, n, o)\n",
      "169     0.25  (p, m, y, a, C, n, o)\n",
      "\n",
      "[170 rows x 2 columns]\n"
     ]
    }
   ],
   "source": [
    "#Find the frequently occuring itemsets using Apriori Algorithm:-\n",
    "frequent_itemsets_ap = apriori(df ,min_support=0.01 ,use_colnames=True)\n",
    "\n",
    "print(\"\\n Results after Applying  apriori Alogorithm\")\n",
    "\n",
    "print(frequent_itemsets_ap)"
   ]
  },
  {
   "cell_type": "code",
   "execution_count": 9,
   "id": "42dcf74b",
   "metadata": {},
   "outputs": [
    {
     "name": "stdout",
     "output_type": "stream",
     "text": [
      "\n",
      " Frequent 2 Item Sets\n",
      "     support               itemsets  length\n",
      "13      0.25                 (C, a)       2\n",
      "14      0.25                 (C, m)       2\n",
      "15      0.25                 (n, C)       2\n",
      "16      0.25                 (o, C)       2\n",
      "17      0.25                 (p, C)       2\n",
      "..       ...                    ...     ...\n",
      "165     0.25     (p, m, y, a, C, o)       6\n",
      "166     0.25     (p, y, a, C, n, o)       6\n",
      "167     0.25     (p, m, y, C, n, o)       6\n",
      "168     0.25     (p, m, y, a, n, o)       6\n",
      "169     0.25  (p, m, y, a, C, n, o)       7\n",
      "\n",
      "[157 rows x 3 columns]\n",
      "\n",
      " Frequent 3 Item sets\n",
      "     support               itemsets  length\n",
      "50      0.25              (C, m, a)       3\n",
      "51      0.25              (n, C, a)       3\n",
      "52      0.25              (o, C, a)       3\n",
      "53      0.25              (p, C, a)       3\n",
      "54      0.25              (C, y, a)       3\n",
      "..       ...                    ...     ...\n",
      "165     0.25     (p, m, y, a, C, o)       6\n",
      "166     0.25     (p, y, a, C, n, o)       6\n",
      "167     0.25     (p, m, y, C, n, o)       6\n",
      "168     0.25     (p, m, y, a, n, o)       6\n",
      "169     0.25  (p, m, y, a, C, n, o)       7\n",
      "\n",
      "[120 rows x 3 columns]\n",
      "\n",
      " Frequent 4 Item sets\n",
      "     support               itemsets  length\n",
      "99      0.25           (n, C, m, a)       4\n",
      "100     0.25           (o, C, m, a)       4\n",
      "101     0.25           (p, C, m, a)       4\n",
      "102     0.25           (C, m, y, a)       4\n",
      "103     0.25           (n, o, C, a)       4\n",
      "..       ...                    ...     ...\n",
      "165     0.25     (p, m, y, a, C, o)       6\n",
      "166     0.25     (p, y, a, C, n, o)       6\n",
      "167     0.25     (p, m, y, C, n, o)       6\n",
      "168     0.25     (p, m, y, a, n, o)       6\n",
      "169     0.25  (p, m, y, a, C, n, o)       7\n",
      "\n",
      "[71 rows x 3 columns]\n"
     ]
    }
   ],
   "source": [
    "#Mine the Association Rules\n",
    "\n",
    "rules_ap = association_rules(frequent_itemsets_ap , metric=\"confidence\" , min_threshold=0.8)\n",
    "\n",
    "frequent_itemsets_ap['length'] = frequent_itemsets_ap['itemsets'].apply(lambda x: len(x))\n",
    "print(\"\\n Frequent 2 Item Sets\")\n",
    "\n",
    "print(frequent_itemsets_ap[frequent_itemsets_ap['length']>=2])\n",
    "\n",
    "print(\"\\n Frequent 3 Item sets\")\n",
    "\n",
    "print(frequent_itemsets_ap[frequent_itemsets_ap['length']>=3])\n",
    "\n",
    "\n",
    "print(\"\\n Frequent 4 Item sets\")\n",
    "\n",
    "print(frequent_itemsets_ap[frequent_itemsets_ap['length']>=4])"
   ]
  },
  {
   "cell_type": "code",
   "execution_count": null,
   "id": "e103bf58",
   "metadata": {},
   "outputs": [],
   "source": []
  }
 ],
 "metadata": {
  "kernelspec": {
   "display_name": "Python 3 (ipykernel)",
   "language": "python",
   "name": "python3"
  },
  "language_info": {
   "codemirror_mode": {
    "name": "ipython",
    "version": 3
   },
   "file_extension": ".py",
   "mimetype": "text/x-python",
   "name": "python",
   "nbconvert_exporter": "python",
   "pygments_lexer": "ipython3",
   "version": "3.9.7"
  }
 },
 "nbformat": 4,
 "nbformat_minor": 5
}
