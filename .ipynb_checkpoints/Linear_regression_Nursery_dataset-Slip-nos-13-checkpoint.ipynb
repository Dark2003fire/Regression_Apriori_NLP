{
 "cells": [
  {
   "cell_type": "markdown",
   "id": "09dd2403",
   "metadata": {},
   "source": [
    "Download nursery dataset from UCI. Build a linear regression model by identifying independent \n",
    "and target variable. Split the variables into training and testing sets and print them. Build a simple linear \n",
    "regression model for predicting purchases."
   ]
  },
  {
   "cell_type": "code",
   "execution_count": 9,
   "id": "9fc9567f",
   "metadata": {},
   "outputs": [],
   "source": [
    "import numpy as np\n",
    "import pandas as pd \n",
    "import seaborn as sns\n",
    "import matplotlib.pyplot as plt\n",
    "from sklearn.linear_model import LinearRegression\n",
    "from sklearn.model_selection import train_test_split\n",
    "from sklearn.metrics import classification_report"
   ]
  },
  {
   "cell_type": "code",
   "execution_count": 10,
   "id": "5674b44d",
   "metadata": {},
   "outputs": [],
   "source": [
    "df = pd.read_csv('nursery_dataset.csv')\n",
    "\n",
    "df = df.rename(columns={'final evaluation': 'final'})"
   ]
  },
  {
   "cell_type": "code",
   "execution_count": 11,
   "id": "004a2d6d",
   "metadata": {},
   "outputs": [
    {
     "name": "stdout",
     "output_type": "stream",
     "text": [
      "usual         0.33 4320\n",
      "pretentious   0.33 4320\n",
      "great_pret    0.33 4320\n",
      "\n",
      "\n",
      "proper        0.20 2592\n",
      "less_proper   0.20 2592\n",
      "improper      0.20 2592\n",
      "critical      0.20 2592\n",
      "very_crit     0.20 2592\n",
      "\n",
      "\n",
      "complete      0.25 3240\n",
      "completed     0.25 3240\n",
      "incomplete    0.25 3240\n",
      "foster        0.25 3240\n",
      "\n",
      "\n",
      "1             0.25 3240\n",
      "2             0.25 3240\n",
      "3             0.25 3240\n",
      "more          0.25 3240\n",
      "\n",
      "\n",
      "convenient    0.33 4320\n",
      "less_conv     0.33 4320\n",
      "critical      0.33 4320\n",
      "\n",
      "\n",
      "convenient    0.50 6480\n",
      "inconv        0.50 6480\n",
      "\n",
      "\n",
      "nonprob       0.33 4320\n",
      "slightly_prob 0.33 4320\n",
      "problematic   0.33 4320\n",
      "\n",
      "\n",
      "recommended   0.33 4320\n",
      "priority      0.33 4320\n",
      "not_recom     0.33 4320\n",
      "\n",
      "\n",
      "not_recom     0.33 4320\n",
      "priority      0.33 4266\n",
      "spec_prior    0.31 4044\n",
      "very_recom    0.03  328\n",
      "recommend     0.00    2\n",
      "\n",
      "\n"
     ]
    }
   ],
   "source": [
    "L = len(df.index) \n",
    "\n",
    "def print_counts(df):\n",
    "    for x in df.columns:\n",
    "        for i, y in zip(df[x].value_counts().index, df[x].value_counts()):\n",
    "            i = str(i)\n",
    "            s = f'{i:14}{y/L:4.2f} {y:4d}'\n",
    "            print(s)\n",
    "        print('\\n')\n",
    "\n",
    "print_counts(df)"
   ]
  },
  {
   "cell_type": "code",
   "execution_count": 12,
   "id": "b0cfc08f",
   "metadata": {},
   "outputs": [
    {
     "name": "stdout",
     "output_type": "stream",
     "text": [
      "1             0.33 4320\n",
      "2             0.33 4320\n",
      "3             0.33 4320\n",
      "\n",
      "\n",
      "1             0.20 2592\n",
      "2             0.20 2592\n",
      "3             0.20 2592\n",
      "4             0.20 2592\n",
      "5             0.20 2592\n",
      "\n",
      "\n",
      "1             0.25 3240\n",
      "2             0.25 3240\n",
      "3             0.25 3240\n",
      "4             0.25 3240\n",
      "\n",
      "\n",
      "1             0.25 3240\n",
      "2             0.25 3240\n",
      "3             0.25 3240\n",
      "4             0.25 3240\n",
      "\n",
      "\n",
      "1             0.33 4320\n",
      "2             0.33 4320\n",
      "3             0.33 4320\n",
      "\n",
      "\n",
      "1             0.50 6480\n",
      "2             0.50 6480\n",
      "\n",
      "\n",
      "1             0.33 4320\n",
      "2             0.33 4320\n",
      "3             0.33 4320\n",
      "\n",
      "\n",
      "recommended   0.33 4320\n",
      "priority      0.33 4320\n",
      "not_recom     0.33 4320\n",
      "\n",
      "\n",
      "not_recom     0.33 4320\n",
      "priority      0.33 4266\n",
      "spec_prior    0.31 4044\n",
      "very_recom    0.03  328\n",
      "recommend     0.00    2\n",
      "\n",
      "\n"
     ]
    }
   ],
   "source": [
    "for x in df.drop(['health', 'final'], axis=1).columns:\n",
    "    lst = list(df[x].value_counts().index)\n",
    "    dic = {k:i+1 for i, k in enumerate(lst)}\n",
    "    df[x].replace(dic, inplace=True)\n",
    "    \n",
    "print_counts(df)"
   ]
  },
  {
   "cell_type": "code",
   "execution_count": 13,
   "id": "1789b717",
   "metadata": {},
   "outputs": [
    {
     "name": "stdout",
     "output_type": "stream",
     "text": [
      "1             0.33 4320\n",
      "2             0.33 4320\n",
      "3             0.33 4320\n",
      "\n",
      "\n",
      "1             0.20 2592\n",
      "2             0.20 2592\n",
      "3             0.20 2592\n",
      "4             0.20 2592\n",
      "5             0.20 2592\n",
      "\n",
      "\n",
      "1             0.25 3240\n",
      "2             0.25 3240\n",
      "3             0.25 3240\n",
      "4             0.25 3240\n",
      "\n",
      "\n",
      "1             0.25 3240\n",
      "2             0.25 3240\n",
      "3             0.25 3240\n",
      "4             0.25 3240\n",
      "\n",
      "\n",
      "1             0.33 4320\n",
      "2             0.33 4320\n",
      "3             0.33 4320\n",
      "\n",
      "\n",
      "1             0.50 6480\n",
      "2             0.50 6480\n",
      "\n",
      "\n",
      "1             0.33 4320\n",
      "2             0.33 4320\n",
      "3             0.33 4320\n",
      "\n",
      "\n",
      "2             0.33 4320\n",
      "3             0.33 4320\n",
      "1             0.33 4320\n",
      "\n",
      "\n",
      "1             0.33 4320\n",
      "4             0.33 4266\n",
      "5             0.31 4044\n",
      "3             0.03  328\n",
      "2             0.00    2\n",
      "\n",
      "\n"
     ]
    }
   ],
   "source": [
    "dic1 = {'recommended': 2,\n",
    "        'priority': 3,\n",
    "        'not_recom': 1}\n",
    "\n",
    "\n",
    "dic2 = {'not_recom':1,\n",
    "        'priority':4,\n",
    "        'spec_prior':5,\n",
    "        'very_recom':3,\n",
    "        'recommend':2}\n",
    "\n",
    "df['health'].replace(dic1, inplace=True)\n",
    "df['final'].replace(dic2, inplace=True)\n",
    "\n",
    "print_counts(df)"
   ]
  },
  {
   "cell_type": "code",
   "execution_count": 14,
   "id": "7838c7b9",
   "metadata": {},
   "outputs": [],
   "source": [
    "ind = (df.loc[:, 'final'] == 2) | (df.loc[:, 'final'] == 3)\n",
    "\n",
    "df_23 = df[ind].reset_index(drop=True)\n",
    "df = df[~ind].reset_index(drop=True)\n",
    "\n",
    "dic3 = {4: 2, 5: 3}\n",
    "\n",
    "\n",
    "df['final'].replace(dic3, inplace=True)"
   ]
  },
  {
   "cell_type": "code",
   "execution_count": 15,
   "id": "fe3e9b61",
   "metadata": {},
   "outputs": [],
   "source": [
    "X = df.iloc[:, :-1]\n",
    "y = df.iloc[:, -1]\n",
    "\n",
    "X_train, X_test, y_train, y_test = train_test_split(X, y, test_size=0.33, stratify=y)"
   ]
  },
  {
   "cell_type": "code",
   "execution_count": 17,
   "id": "172e6bdf",
   "metadata": {},
   "outputs": [],
   "source": [
    "model = LinearRegression()\n",
    "\n",
    "model.fit(X_train, y_train)\n",
    "\n",
    "yp_train = model.predict(X_train)\n",
    "yp_test = model.predict(X_test)"
   ]
  },
  {
   "cell_type": "code",
   "execution_count": 20,
   "id": "9bd42a35",
   "metadata": {},
   "outputs": [
    {
     "name": "stdout",
     "output_type": "stream",
     "text": [
      "(7808     1\n",
      "5669     1\n",
      "6593     1\n",
      "11347    3\n",
      "7701     3\n",
      "        ..\n",
      "8824     3\n",
      "5832     2\n",
      "12177    3\n",
      "12609    3\n",
      "2164     1\n",
      "Name: final, Length: 8462, dtype: int64, array([1.44846478, 1.0399709 , 1.11603862, ..., 2.55826962, 2.61342593,\n",
      "       1.13435809]))\n"
     ]
    }
   ],
   "source": [
    "print((y_train, yp_train))\n",
    "                            \n",
    "                            \n",
    "                            \n",
    "                            \n",
    "                            \n",
    "                            \n",
    "                            \n",
    "                            \n",
    "                            \n",
    "    \n",
    "                            \n",
    "                            \n",
    "                            \n",
    "                            \n",
    "                            \n",
    "                            "
   ]
  },
  {
   "cell_type": "code",
   "execution_count": 21,
   "id": "091f426f",
   "metadata": {},
   "outputs": [
    {
     "name": "stdout",
     "output_type": "stream",
     "text": [
      "[1.25672001 1.32138376 1.32294248 1.38760624 1.33048046 1.39514422\n",
      " 1.39670294 1.4613667  1.40424092 1.46890467 1.47046339 1.53512715\n",
      " 1.29812796 1.36279172 1.36435044 1.4290142  1.37188842 1.43655218\n",
      " 1.43811089 1.50277465 1.33953592 1.40419968 1.38094387 1.44560763\n",
      " 1.28429816 1.34896192 1.35052064 1.41518439 1.35805861 1.42272237\n",
      " 1.42428109 1.48894485 1.32570612 1.39036987 1.39192859 1.45659235\n",
      " 1.39946657 1.46413033 1.46568905 1.53035281 1.36711407 1.43177783\n",
      " 1.40852203 1.47318579 1.31187631 1.37654007 1.37809879 1.44276255\n",
      " 1.38563677 1.45030053 1.45185924 1.516523   1.35328427 1.41794803\n",
      " 1.39469222 1.45935598 1.43610018 1.50076394 1.33945447 1.40411822\n",
      " 1.38086242 1.44552618 1.42227038 1.48693414 1.46367833 1.52834209\n",
      " 1.39745367 1.46211743 1.46367615 1.5283399  1.47121412 1.53587788\n",
      " 1.5374366  1.60210036 1.54497458 1.60963834 1.61119705 1.67586081\n",
      " 1.43886162 1.50352538 1.5050841  1.56974786 1.51262208 1.57728584\n",
      " 1.57884456 1.64350831 1.48026958 1.54493334 1.52167754 1.58634129\n",
      " 1.42503182 1.48969558 1.4912543  1.55591806 1.49879228 1.56345603\n",
      " 1.56501475 1.62967851 1.46643978 1.53110354 1.53266225 1.59732601\n",
      " 1.54020023 1.60486399 1.60642271 1.67108647 1.50784773 1.57251149\n",
      " 1.54925569 1.61391945 1.45260997 1.51727373 1.51883245 1.58349621\n",
      " 1.52637043 1.59103419 1.59259291 1.65725666 1.49401793 1.55868169\n",
      " 1.53542589 1.60008964 1.57683384 1.6414976  1.48018813 1.54485189\n",
      " 1.52159608 1.58625984 1.56300404 1.6276678  1.604412   1.66907575\n",
      " 1.53818733 1.60285109 1.60440981 1.66907357 1.61194779 1.67661154\n",
      " 1.67817026 1.74283402 1.68570824 1.750372   1.75193072 1.81659448\n",
      " 1.57959529 1.64425904 1.64581776 1.71048152 1.65335574 1.7180195\n",
      " 1.71957822 1.78424198 1.62100324 1.685667   1.6624112  1.72707496\n",
      " 1.56576548 1.63042924 1.63198796 1.69665172 1.63952594 1.7041897\n",
      " 1.70574842 1.77041217 1.60717344 1.6718372  1.67339592 1.73805967\n",
      " 1.68093389 1.74559765 1.74715637 1.81182013 1.6485814  1.71324515\n",
      " 1.68998935 1.75465311 1.59334364 1.6580074  1.65956611 1.72422987\n",
      " 1.66710409 1.73176785 1.73332657 1.79799033 1.63475159 1.69941535\n",
      " 1.67615955 1.74082331 1.7175675  1.78223126 1.62092179 1.68558555\n",
      " 1.66232975 1.7269935  1.7037377  1.76840146 1.74514566 1.80980942\n",
      " 1.41547126 1.48013502 1.48169373 1.54635749 1.48923171 1.55389547\n",
      " 1.55545419 1.62011795 1.56299217 1.62765592 1.62921464 1.6938784\n",
      " 1.45687921 1.52154297 1.52310169 1.58776545 1.53063967 1.59530343\n",
      " 1.59686214 1.6615259  1.49828717 1.56295093 1.53969512 1.60435888\n",
      " 1.44304941 1.50771317 1.50927189 1.57393565 1.51680986 1.58147362\n",
      " 1.58303234 1.6476961  1.48445737 1.54912112 1.55067984 1.6153436\n",
      " 1.55821782 1.62288158 1.6244403  1.68910406 1.52586532 1.59052908\n",
      " 1.56727328 1.63193704 1.47062756 1.53529132 1.53685004 1.6015138\n",
      " 1.54438802 1.60905178 1.61061049 1.67527425 1.51203552 1.57669928\n",
      " 1.55344347 1.61810723 1.59485143 1.65951519 1.49820572 1.56286947\n",
      " 1.53961367 1.60427743 1.58102163 1.64568539 1.62242958 1.68709334\n",
      " 1.55620492 1.62086868 1.6224274  1.68709115 1.62996537 1.69462913\n",
      " 1.69618785 1.76085161 1.70372583 1.76838959 1.76994831 1.83461206\n",
      " 1.59761287 1.66227663 1.66383535 1.72849911 1.67137333 1.73603709\n",
      " 1.73759581 1.80225956 1.63902083 1.70368459 1.68042879 1.74509254\n",
      " 1.58378307 1.64844683 1.65000555 1.71466931 1.65754353 1.72220729\n",
      " 1.723766   1.78842976 1.62519103 1.68985479 1.6914135  1.75607726\n",
      " 1.69895148 1.76361524 1.76517396 1.82983772 1.66659898 1.73126274\n",
      " 1.70800694 1.7726707  1.61136123 1.67602498 1.6775837  1.74224746\n",
      " 1.68512168 1.74978544 1.75134416 1.81600792 1.65276918 1.71743294\n",
      " 1.69417714 1.7588409  1.73558509 1.80024885 1.63893938 1.70360314\n",
      " 1.68034733 1.74501109 1.72175529 1.78641905 1.76316325 1.827827  ]\n"
     ]
    }
   ],
   "source": [
    "X_23, y_23 = df_23.iloc[:,:-1], df_23.iloc[:,-1]\n",
    "\n",
    "\n",
    "y_pred_23 = model.predict(X_23)\n",
    "\n",
    "print(y_pred_23)"
   ]
  },
  {
   "cell_type": "code",
   "execution_count": 22,
   "id": "70a3a56c",
   "metadata": {},
   "outputs": [
    {
     "data": {
      "image/png": "[encoded data removed]",
      "text/plain": [
       "<Figure size 1200x600 with 2 Axes>"
      ]
     },
     "metadata": {},
     "output_type": "display_data"
    }
   ],
   "source": [
    "plt.figure(figsize=(12, 6))\n",
    "sns.heatmap(df.corr(), annot=True, fmt='.2f');"
   ]
  },
  {
   "cell_type": "code",
   "execution_count": null,
   "id": "b2692925",
   "metadata": {},
   "outputs": [],
   "source": []
  }
 ],
 "metadata": {
  "kernelspec": {
   "display_name": "Python 3 (ipykernel)",
   "language": "python",
   "name": "python3"
  },
  "language_info": {
   "codemirror_mode": {
    "name": "ipython",
    "version": 3
   },
   "file_extension": ".py",
   "mimetype": "text/x-python",
   "name": "python",
   "nbconvert_exporter": "python",
   "pygments_lexer": "ipython3",
   "version": "3.9.7"
  }
 },
 "nbformat": 4,
 "nbformat_minor": 5
}
