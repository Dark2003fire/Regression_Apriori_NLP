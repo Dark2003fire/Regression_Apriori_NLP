{
 "cells": [
  {
   "cell_type": "markdown",
   "id": "a7d13dd8",
   "metadata": {},
   "source": [
    "Create the dataset . transactions = [['eggs', 'milk','bread'], ['eggs', 'apple'], ['milk', 'bread'], ['apple', \n",
    "'milk'], ['milk', 'apple', 'bread']] .\n",
    "Convert the categorical values into numeric format.Apply the apriori algorithm on the above dataset to \n",
    "generate the frequent itemsets and association rules"
   ]
  },
  {
   "cell_type": "code",
   "execution_count": 1,
   "id": "740deb53",
   "metadata": {},
   "outputs": [],
   "source": [
    "import pandas as pd\n",
    "\n",
    "from mlxtend.preprocessing import TransactionEncoder\n",
    "\n",
    "from mlxtend.frequent_patterns import apriori\n",
    "\n",
    "from mlxtend.frequent_patterns import association_rules\n"
   ]
  },
  {
   "cell_type": "code",
   "execution_count": 2,
   "id": "970aeb3e",
   "metadata": {},
   "outputs": [],
   "source": [
    "#Create Dataset\n",
    "dataset = [\n",
    "    \n",
    "        [\"eggs\" , \"milk\" , \"bread\"] ,\n",
    "        [\"eggs\" , \"apple\"] ,\n",
    "        [\"milk\" ,\"bread\" ] ,\n",
    "        [\"Apple\" ,\"milk\"], \n",
    "        [\"Milk\" , \"apple\" ,\"bread\"],\n",
    "    \n",
    "    \n",
    "]\n",
    "\n",
    "\n",
    "\n"
   ]
  },
  {
   "cell_type": "code",
   "execution_count": 7,
   "id": "7a3ea8a2",
   "metadata": {},
   "outputs": [],
   "source": [
    "#Convert the list to dataframe with boolean Vlaues\n",
    "\n",
    "te = TransactionEncoder()\n",
    "\n",
    "te_array = te.fit(dataset).transform(dataset)\n",
    "\n",
    "df = pd.DataFrame(te_array , columns = te.columns_)"
   ]
  },
  {
   "cell_type": "code",
   "execution_count": 8,
   "id": "d2c30637",
   "metadata": {},
   "outputs": [
    {
     "name": "stdout",
     "output_type": "stream",
     "text": [
      "Result after Preprocessing\n",
      "   Apple   Milk  apple  bread   eggs   milk\n",
      "0  False  False  False   True   True   True\n",
      "1  False  False   True  False   True  False\n",
      "2  False  False  False   True  False   True\n",
      "3   True  False  False  False  False   True\n",
      "4  False   True   True   True  False  False\n"
     ]
    }
   ],
   "source": [
    "#Result after Preprocessing\n",
    "\n",
    "print(\"Result after Preprocessing\")\n",
    "\n",
    "print(df)\n",
    "\n",
    "\n"
   ]
  },
  {
   "cell_type": "code",
   "execution_count": 9,
   "id": "039a0ae5",
   "metadata": {},
   "outputs": [
    {
     "name": "stdout",
     "output_type": "stream",
     "text": [
      "\n",
      " Results after Applying  apriori Alogorithm\n",
      "    support              itemsets\n",
      "0       0.2               (Apple)\n",
      "1       0.2                (Milk)\n",
      "2       0.4               (apple)\n",
      "3       0.6               (bread)\n",
      "4       0.4                (eggs)\n",
      "5       0.6                (milk)\n",
      "6       0.2         (milk, Apple)\n",
      "7       0.2         (Milk, apple)\n",
      "8       0.2         (Milk, bread)\n",
      "9       0.2        (apple, bread)\n",
      "10      0.2         (eggs, apple)\n",
      "11      0.2         (eggs, bread)\n",
      "12      0.4         (milk, bread)\n",
      "13      0.2          (milk, eggs)\n",
      "14      0.2  (Milk, apple, bread)\n",
      "15      0.2   (milk, eggs, bread)\n"
     ]
    }
   ],
   "source": [
    "#Find the frequently occuring itemsets using Apriori Algorithm:-\n",
    "frequent_itemsets_ap = apriori(df ,min_support=0.01 ,use_colnames=True)\n",
    "\n",
    "print(\"\\n Results after Applying  apriori Alogorithm\")\n",
    "\n",
    "print(frequent_itemsets_ap)\n"
   ]
  },
  {
   "cell_type": "code",
   "execution_count": 10,
   "id": "11a0d52a",
   "metadata": {},
   "outputs": [
    {
     "name": "stdout",
     "output_type": "stream",
     "text": [
      "\n",
      " Frequent 2 Item Sets\n",
      "    support              itemsets  length\n",
      "6       0.2         (milk, Apple)       2\n",
      "7       0.2         (Milk, apple)       2\n",
      "8       0.2         (Milk, bread)       2\n",
      "9       0.2        (apple, bread)       2\n",
      "10      0.2         (eggs, apple)       2\n",
      "11      0.2         (eggs, bread)       2\n",
      "12      0.4         (milk, bread)       2\n",
      "13      0.2          (milk, eggs)       2\n",
      "14      0.2  (Milk, apple, bread)       3\n",
      "15      0.2   (milk, eggs, bread)       3\n",
      "\n",
      " Frequent 3 Item sets\n",
      "    support              itemsets  length\n",
      "14      0.2  (Milk, apple, bread)       3\n",
      "15      0.2   (milk, eggs, bread)       3\n",
      "\n",
      " Frequent 4 Item sets\n",
      "Empty DataFrame\n",
      "Columns: [support, itemsets, length]\n",
      "Index: []\n"
     ]
    }
   ],
   "source": [
    "#Mine the Association Rules\n",
    "\n",
    "rules_ap = association_rules(frequent_itemsets_ap , metric=\"confidence\" , min_threshold=0.8)\n",
    "\n",
    "frequent_itemsets_ap['length'] = frequent_itemsets_ap['itemsets'].apply(lambda x: len(x))\n",
    "print(\"\\n Frequent 2 Item Sets\")\n",
    "\n",
    "print(frequent_itemsets_ap[frequent_itemsets_ap['length']>=2])\n",
    "\n",
    "print(\"\\n Frequent 3 Item sets\")\n",
    "\n",
    "print(frequent_itemsets_ap[frequent_itemsets_ap['length']>=3])\n",
    "\n",
    "\n",
    "print(\"\\n Frequent 4 Item sets\")\n",
    "\n",
    "print(frequent_itemsets_ap[frequent_itemsets_ap['length']>=4])"
   ]
  },
  {
   "cell_type": "code",
   "execution_count": null,
   "id": "8bc0f692",
   "metadata": {},
   "outputs": [],
   "source": []
  }
 ],
 "metadata": {
  "kernelspec": {
   "display_name": "Python 3 (ipykernel)",
   "language": "python",
   "name": "python3"
  },
  "language_info": {
   "codemirror_mode": {
    "name": "ipython",
    "version": 3
   },
   "file_extension": ".py",
   "mimetype": "text/x-python",
   "name": "python",
   "nbconvert_exporter": "python",
   "pygments_lexer": "ipython3",
   "version": "3.9.7"
  }
 },
 "nbformat": 4,
 "nbformat_minor": 5
}
