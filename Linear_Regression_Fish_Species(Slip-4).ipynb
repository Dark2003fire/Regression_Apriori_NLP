{
 "cells": [
  {
   "cell_type": "markdown",
   "id": "caf64a14",
   "metadata": {},
   "source": [
    "Build a simple linear regression model for Fish Species Weight Prediction"
   ]
  },
  {
   "cell_type": "code",
   "execution_count": 1,
   "id": "7132e818",
   "metadata": {},
   "outputs": [],
   "source": [
    "import numpy as np\n",
    "import pandas as pd\n",
    "import matplotlib.pyplot as plt\n",
    "import seaborn as sns\n",
    "from sklearn import linear_model\n",
    "from sklearn.model_selection import train_test_split "
   ]
  },
  {
   "cell_type": "code",
   "execution_count": 2,
   "id": "d2342200",
   "metadata": {},
   "outputs": [
    {
     "name": "stdout",
     "output_type": "stream",
     "text": [
      "  Species  Weight  Length1  Length2  Length3   Height   Width\n",
      "0   Bream   242.0     23.2     25.4     30.0  11.5200  4.0200\n",
      "1   Bream   290.0     24.0     26.3     31.2  12.4800  4.3056\n",
      "2   Bream   340.0     23.9     26.5     31.1  12.3778  4.6961\n",
      "3   Bream   363.0     26.3     29.0     33.5  12.7300  4.4555\n",
      "4   Bream   430.0     26.5     29.0     34.0  12.4440  5.1340\n"
     ]
    }
   ],
   "source": [
    "data = pd.read_csv('Fish.csv')\n",
    "\n",
    "print(data.head())\n",
    "\n"
   ]
  },
  {
   "cell_type": "code",
   "execution_count": 3,
   "id": "17797b75",
   "metadata": {},
   "outputs": [
    {
     "data": {
      "text/plain": [
       "Species    0\n",
       "Weight     0\n",
       "Length1    0\n",
       "Length2    0\n",
       "Length3    0\n",
       "Height     0\n",
       "Width      0\n",
       "dtype: int64"
      ]
     },
     "execution_count": 3,
     "metadata": {},
     "output_type": "execute_result"
    }
   ],
   "source": [
    "#Let's find some missing values in the data\n",
    "\n",
    "data.isnull().sum()\n"
   ]
  },
  {
   "cell_type": "code",
   "execution_count": 4,
   "id": "a2158ac5",
   "metadata": {},
   "outputs": [
    {
     "data": {
      "text/html": [
       "<div>\n",
       "<style scoped>\n",
       "    .dataframe tbody tr th:only-of-type {\n",
       "        vertical-align: middle;\n",
       "    }\n",
       "\n",
       "    .dataframe tbody tr th {\n",
       "        vertical-align: top;\n",
       "    }\n",
       "\n",
       "    .dataframe thead th {\n",
       "        text-align: right;\n",
       "    }\n",
       "</style>\n",
       "<table border=\"1\" class=\"dataframe\">\n",
       "  <thead>\n",
       "    <tr style=\"text-align: right;\">\n",
       "      <th></th>\n",
       "      <th>Species</th>\n",
       "      <th>Weight</th>\n",
       "      <th>VerticalLen</th>\n",
       "      <th>DiagonalLen</th>\n",
       "      <th>CrossLen</th>\n",
       "      <th>Height</th>\n",
       "      <th>Width</th>\n",
       "    </tr>\n",
       "  </thead>\n",
       "  <tbody>\n",
       "    <tr>\n",
       "      <th>87</th>\n",
       "      <td>Perch</td>\n",
       "      <td>120.0</td>\n",
       "      <td>20.0</td>\n",
       "      <td>22.0</td>\n",
       "      <td>23.5</td>\n",
       "      <td>5.6400</td>\n",
       "      <td>3.5250</td>\n",
       "    </tr>\n",
       "    <tr>\n",
       "      <th>150</th>\n",
       "      <td>Smelt</td>\n",
       "      <td>8.7</td>\n",
       "      <td>10.8</td>\n",
       "      <td>11.3</td>\n",
       "      <td>12.6</td>\n",
       "      <td>1.9782</td>\n",
       "      <td>1.2852</td>\n",
       "    </tr>\n",
       "    <tr>\n",
       "      <th>24</th>\n",
       "      <td>Bream</td>\n",
       "      <td>700.0</td>\n",
       "      <td>31.9</td>\n",
       "      <td>35.0</td>\n",
       "      <td>40.5</td>\n",
       "      <td>16.2405</td>\n",
       "      <td>5.5890</td>\n",
       "    </tr>\n",
       "    <tr>\n",
       "      <th>111</th>\n",
       "      <td>Perch</td>\n",
       "      <td>840.0</td>\n",
       "      <td>32.5</td>\n",
       "      <td>35.0</td>\n",
       "      <td>37.3</td>\n",
       "      <td>11.4884</td>\n",
       "      <td>7.7957</td>\n",
       "    </tr>\n",
       "    <tr>\n",
       "      <th>2</th>\n",
       "      <td>Bream</td>\n",
       "      <td>340.0</td>\n",
       "      <td>23.9</td>\n",
       "      <td>26.5</td>\n",
       "      <td>31.1</td>\n",
       "      <td>12.3778</td>\n",
       "      <td>4.6961</td>\n",
       "    </tr>\n",
       "  </tbody>\n",
       "</table>\n",
       "</div>"
      ],
      "text/plain": [
       "    Species  Weight  VerticalLen  DiagonalLen  CrossLen   Height   Width\n",
       "87    Perch   120.0         20.0         22.0      23.5   5.6400  3.5250\n",
       "150   Smelt     8.7         10.8         11.3      12.6   1.9782  1.2852\n",
       "24    Bream   700.0         31.9         35.0      40.5  16.2405  5.5890\n",
       "111   Perch   840.0         32.5         35.0      37.3  11.4884  7.7957\n",
       "2     Bream   340.0         23.9         26.5      31.1  12.3778  4.6961"
      ]
     },
     "execution_count": 4,
     "metadata": {},
     "output_type": "execute_result"
    }
   ],
   "source": [
    "data.rename(columns={'Length1':'VerticalLen','Length2':'DiagonalLen','Length3':'CrossLen'},inplace = True) \n",
    "data.sample(5)\n",
    "\n"
   ]
  },
  {
   "cell_type": "code",
   "execution_count": 5,
   "id": "40b06587",
   "metadata": {},
   "outputs": [
    {
     "data": {
      "text/plain": [
       "(159, 7)"
      ]
     },
     "execution_count": 5,
     "metadata": {},
     "output_type": "execute_result"
    }
   ],
   "source": [
    "data.shape\n"
   ]
  },
  {
   "cell_type": "code",
   "execution_count": 6,
   "id": "8d8071ca",
   "metadata": {},
   "outputs": [
    {
     "name": "stdout",
     "output_type": "stream",
     "text": [
      "<class 'pandas.core.frame.DataFrame'>\n",
      "RangeIndex: 159 entries, 0 to 158\n",
      "Data columns (total 7 columns):\n",
      " #   Column       Non-Null Count  Dtype  \n",
      "---  ------       --------------  -----  \n",
      " 0   Species      159 non-null    object \n",
      " 1   Weight       159 non-null    float64\n",
      " 2   VerticalLen  159 non-null    float64\n",
      " 3   DiagonalLen  159 non-null    float64\n",
      " 4   CrossLen     159 non-null    float64\n",
      " 5   Height       159 non-null    float64\n",
      " 6   Width        159 non-null    float64\n",
      "dtypes: float64(6), object(1)\n",
      "memory usage: 8.8+ KB\n"
     ]
    }
   ],
   "source": [
    "data.info()"
   ]
  },
  {
   "cell_type": "code",
   "execution_count": 7,
   "id": "0e9cf902",
   "metadata": {},
   "outputs": [
    {
     "data": {
      "text/plain": [
       "Perch        56\n",
       "Bream        35\n",
       "Roach        20\n",
       "Pike         17\n",
       "Smelt        14\n",
       "Parkki       11\n",
       "Whitefish     6\n",
       "Name: Species, dtype: int64"
      ]
     },
     "execution_count": 7,
     "metadata": {},
     "output_type": "execute_result"
    }
   ],
   "source": [
    "data.Species.value_counts()"
   ]
  },
  {
   "cell_type": "code",
   "execution_count": 8,
   "id": "7e636504",
   "metadata": {},
   "outputs": [
    {
     "data": {
      "text/html": [
       "<div>\n",
       "<style scoped>\n",
       "    .dataframe tbody tr th:only-of-type {\n",
       "        vertical-align: middle;\n",
       "    }\n",
       "\n",
       "    .dataframe tbody tr th {\n",
       "        vertical-align: top;\n",
       "    }\n",
       "\n",
       "    .dataframe thead th {\n",
       "        text-align: right;\n",
       "    }\n",
       "</style>\n",
       "<table border=\"1\" class=\"dataframe\">\n",
       "  <thead>\n",
       "    <tr style=\"text-align: right;\">\n",
       "      <th></th>\n",
       "      <th>Perch</th>\n",
       "      <th>Bream</th>\n",
       "      <th>Roach</th>\n",
       "      <th>Pike</th>\n",
       "      <th>Smelt</th>\n",
       "      <th>Parkki</th>\n",
       "      <th>Whitefish</th>\n",
       "    </tr>\n",
       "  </thead>\n",
       "  <tbody>\n",
       "    <tr>\n",
       "      <th>Species</th>\n",
       "      <td>56</td>\n",
       "      <td>35</td>\n",
       "      <td>20</td>\n",
       "      <td>17</td>\n",
       "      <td>14</td>\n",
       "      <td>11</td>\n",
       "      <td>6</td>\n",
       "    </tr>\n",
       "  </tbody>\n",
       "</table>\n",
       "</div>"
      ],
      "text/plain": [
       "         Perch  Bream  Roach  Pike  Smelt  Parkki  Whitefish\n",
       "Species     56     35     20    17     14      11          6"
      ]
     },
     "execution_count": 8,
     "metadata": {},
     "output_type": "execute_result"
    }
   ],
   "source": [
    "data_sp = data.Species.value_counts()\n",
    "\n",
    "data_sp = pd.DataFrame(data_sp)\n",
    "\n",
    "data_sp.T\n",
    "\n"
   ]
  },
  {
   "cell_type": "code",
   "execution_count": 9,
   "id": "a1578f74",
   "metadata": {},
   "outputs": [
    {
     "name": "stdout",
     "output_type": "stream",
     "text": [
      "New dimension of the dataset is :- (158, 7)\n",
      "  Species  Weight  VerticalLen  DiagonalLen  CrossLen   Height   Width\n",
      "0   Bream   242.0         23.2         25.4      30.0  11.5200  4.0200\n",
      "1   Bream   290.0         24.0         26.3      31.2  12.4800  4.3056\n",
      "2   Bream   340.0         23.9         26.5      31.1  12.3778  4.6961\n",
      "3   Bream   363.0         26.3         29.0      33.5  12.7300  4.4555\n",
      "4   Bream   430.0         26.5         29.0      34.0  12.4440  5.1340\n"
     ]
    }
   ],
   "source": [
    "new_data = data.drop([40])\n",
    "\n",
    "print(\"New dimension of the dataset is :-\" , new_data.shape)\n",
    "\n",
    "print(new_data.head())\n",
    "\n"
   ]
  },
  {
   "cell_type": "code",
   "execution_count": 10,
   "id": "0d60ca9e",
   "metadata": {},
   "outputs": [
    {
     "name": "stdout",
     "output_type": "stream",
     "text": [
      "New dimension of dataset is=  (158, 4)\n"
     ]
    },
    {
     "data": {
      "text/html": [
       "<div>\n",
       "<style scoped>\n",
       "    .dataframe tbody tr th:only-of-type {\n",
       "        vertical-align: middle;\n",
       "    }\n",
       "\n",
       "    .dataframe tbody tr th {\n",
       "        vertical-align: top;\n",
       "    }\n",
       "\n",
       "    .dataframe thead th {\n",
       "        text-align: right;\n",
       "    }\n",
       "</style>\n",
       "<table border=\"1\" class=\"dataframe\">\n",
       "  <thead>\n",
       "    <tr style=\"text-align: right;\">\n",
       "      <th></th>\n",
       "      <th>Species</th>\n",
       "      <th>Weight</th>\n",
       "      <th>Height</th>\n",
       "      <th>Width</th>\n",
       "    </tr>\n",
       "  </thead>\n",
       "  <tbody>\n",
       "    <tr>\n",
       "      <th>0</th>\n",
       "      <td>Bream</td>\n",
       "      <td>242.0</td>\n",
       "      <td>11.5200</td>\n",
       "      <td>4.0200</td>\n",
       "    </tr>\n",
       "    <tr>\n",
       "      <th>1</th>\n",
       "      <td>Bream</td>\n",
       "      <td>290.0</td>\n",
       "      <td>12.4800</td>\n",
       "      <td>4.3056</td>\n",
       "    </tr>\n",
       "    <tr>\n",
       "      <th>2</th>\n",
       "      <td>Bream</td>\n",
       "      <td>340.0</td>\n",
       "      <td>12.3778</td>\n",
       "      <td>4.6961</td>\n",
       "    </tr>\n",
       "    <tr>\n",
       "      <th>3</th>\n",
       "      <td>Bream</td>\n",
       "      <td>363.0</td>\n",
       "      <td>12.7300</td>\n",
       "      <td>4.4555</td>\n",
       "    </tr>\n",
       "    <tr>\n",
       "      <th>4</th>\n",
       "      <td>Bream</td>\n",
       "      <td>430.0</td>\n",
       "      <td>12.4440</td>\n",
       "      <td>5.1340</td>\n",
       "    </tr>\n",
       "  </tbody>\n",
       "</table>\n",
       "</div>"
      ],
      "text/plain": [
       "  Species  Weight   Height   Width\n",
       "0   Bream   242.0  11.5200  4.0200\n",
       "1   Bream   290.0  12.4800  4.3056\n",
       "2   Bream   340.0  12.3778  4.6961\n",
       "3   Bream   363.0  12.7300  4.4555\n",
       "4   Bream   430.0  12.4440  5.1340"
      ]
     },
     "execution_count": 10,
     "metadata": {},
     "output_type": "execute_result"
    }
   ],
   "source": [
    "new_data2 = new_data.drop(['VerticalLen', 'DiagonalLen', 'CrossLen'], axis =1) # Can also use axis = 'columns'\n",
    "print('New dimension of dataset is= ', new_data2.shape)\n",
    "new_data2.head()"
   ]
  },
  {
   "cell_type": "code",
   "execution_count": 11,
   "id": "de35251b",
   "metadata": {
    "scrolled": true
   },
   "outputs": [
    {
     "data": {
      "text/plain": [
       "Text(0.5, 1.0, 'Outlier Detection based on weight')"
      ]
     },
     "execution_count": 11,
     "metadata": {},
     "output_type": "execute_result"
    },
    {
     "data": {
      "image/png": "[encoded data removed]",
      "text/plain": [
       "<Figure size 640x480 with 1 Axes>"
      ]
     },
     "metadata": {},
     "output_type": "display_data"
    }
   ],
   "source": [
    "sns.boxplot(x = new_data2['Weight'])\n",
    "plt.title(\"Outlier Detection based on weight\")"
   ]
  },
  {
   "cell_type": "code",
   "execution_count": 12,
   "id": "9888f041",
   "metadata": {},
   "outputs": [],
   "source": [
    "def outlier_detection(dataframe):\n",
    "    Q1 = dataframe.quantile(0.25)\n",
    "    Q3 = dataframe.quantile(0.75)\n",
    "    IQR = Q3-Q1\n",
    "    upper_end = Q3 + 1.5 * IQR\n",
    "    lower_end = Q1 - 1.5 * IQR\n",
    "    Outlier = dataframe[(dataframe>upper_end)| (dataframe<lower_end)]\n",
    "    return Outlier\n",
    "\n"
   ]
  },
  {
   "cell_type": "code",
   "execution_count": 13,
   "id": "0af1538a",
   "metadata": {},
   "outputs": [
    {
     "data": {
      "text/plain": [
       "142    1600.0\n",
       "143    1550.0\n",
       "144    1650.0\n",
       "Name: Weight, dtype: float64"
      ]
     },
     "execution_count": 13,
     "metadata": {},
     "output_type": "execute_result"
    }
   ],
   "source": [
    "outlier_detection(new_data2['Weight'])\n",
    "\n"
   ]
  },
  {
   "cell_type": "code",
   "execution_count": 14,
   "id": "8a6447b4",
   "metadata": {},
   "outputs": [
    {
     "data": {
      "text/plain": [
       "Text(0.5, 1.0, 'Outlier detection based on height ')"
      ]
     },
     "execution_count": 14,
     "metadata": {},
     "output_type": "execute_result"
    },
    {
     "data": {
      "image/png": "[encoded data removed]",
      "text/plain": [
       "<Figure size 640x480 with 1 Axes>"
      ]
     },
     "metadata": {},
     "output_type": "display_data"
    }
   ],
   "source": [
    "sns.boxplot(x = new_data2['Height'])\n",
    "plt.title(\"Outlier detection based on height \")\n",
    "\n"
   ]
  },
  {
   "cell_type": "code",
   "execution_count": 15,
   "id": "173be922",
   "metadata": {},
   "outputs": [
    {
     "data": {
      "text/plain": [
       "Text(0.5, 1.0, 'Outlier Detection based on Width')"
      ]
     },
     "execution_count": 15,
     "metadata": {},
     "output_type": "execute_result"
    },
    {
     "data": {
      "image/png": "[encoded data removed]",
      "text/plain": [
       "<Figure size 640x480 with 1 Axes>"
      ]
     },
     "metadata": {},
     "output_type": "display_data"
    }
   ],
   "source": [
    "sns.boxplot(x = new_data['Width'])\n",
    "plt.title(\"Outlier Detection based on Width\")\n",
    "\n"
   ]
  },
  {
   "cell_type": "code",
   "execution_count": 16,
   "id": "18044e5e",
   "metadata": {},
   "outputs": [
    {
     "data": {
      "text/plain": [
       "(155, 4)"
      ]
     },
     "execution_count": 16,
     "metadata": {},
     "output_type": "execute_result"
    }
   ],
   "source": [
    "data3 = new_data2.drop([142 , 143 , 144])\n",
    "\n",
    "data3.shape\n",
    "\n",
    "\n"
   ]
  },
  {
   "cell_type": "code",
   "execution_count": 17,
   "id": "49fe6705",
   "metadata": {
    "scrolled": false
   },
   "outputs": [
    {
     "data": {
      "text/html": [
       "<div>\n",
       "<style scoped>\n",
       "    .dataframe tbody tr th:only-of-type {\n",
       "        vertical-align: middle;\n",
       "    }\n",
       "\n",
       "    .dataframe tbody tr th {\n",
       "        vertical-align: top;\n",
       "    }\n",
       "\n",
       "    .dataframe thead th {\n",
       "        text-align: right;\n",
       "    }\n",
       "</style>\n",
       "<table border=\"1\" class=\"dataframe\">\n",
       "  <thead>\n",
       "    <tr style=\"text-align: right;\">\n",
       "      <th></th>\n",
       "      <th>count</th>\n",
       "      <th>mean</th>\n",
       "      <th>std</th>\n",
       "      <th>min</th>\n",
       "      <th>25%</th>\n",
       "      <th>50%</th>\n",
       "      <th>75%</th>\n",
       "      <th>max</th>\n",
       "    </tr>\n",
       "  </thead>\n",
       "  <tbody>\n",
       "    <tr>\n",
       "      <th>Weight</th>\n",
       "      <td>155.0</td>\n",
       "      <td>377.638065</td>\n",
       "      <td>319.144511</td>\n",
       "      <td>5.9000</td>\n",
       "      <td>120.00000</td>\n",
       "      <td>272.0000</td>\n",
       "      <td>615.00000</td>\n",
       "      <td>1250.000</td>\n",
       "    </tr>\n",
       "    <tr>\n",
       "      <th>Height</th>\n",
       "      <td>155.0</td>\n",
       "      <td>8.967102</td>\n",
       "      <td>4.333722</td>\n",
       "      <td>1.7284</td>\n",
       "      <td>5.92695</td>\n",
       "      <td>7.6800</td>\n",
       "      <td>12.37930</td>\n",
       "      <td>18.957</td>\n",
       "    </tr>\n",
       "    <tr>\n",
       "      <th>Width</th>\n",
       "      <td>155.0</td>\n",
       "      <td>4.382326</td>\n",
       "      <td>1.675564</td>\n",
       "      <td>1.0476</td>\n",
       "      <td>3.38565</td>\n",
       "      <td>4.2476</td>\n",
       "      <td>5.47275</td>\n",
       "      <td>8.142</td>\n",
       "    </tr>\n",
       "  </tbody>\n",
       "</table>\n",
       "</div>"
      ],
      "text/plain": [
       "        count        mean         std     min        25%       50%        75%  \\\n",
       "Weight  155.0  377.638065  319.144511  5.9000  120.00000  272.0000  615.00000   \n",
       "Height  155.0    8.967102    4.333722  1.7284    5.92695    7.6800   12.37930   \n",
       "Width   155.0    4.382326    1.675564  1.0476    3.38565    4.2476    5.47275   \n",
       "\n",
       "             max  \n",
       "Weight  1250.000  \n",
       "Height    18.957  \n",
       "Width      8.142  "
      ]
     },
     "execution_count": 17,
     "metadata": {},
     "output_type": "execute_result"
    }
   ],
   "source": [
    "data3.describe().T\n"
   ]
  },
  {
   "cell_type": "code",
   "execution_count": 18,
   "id": "384a809d",
   "metadata": {},
   "outputs": [
    {
     "data": {
      "text/html": [
       "<div>\n",
       "<style scoped>\n",
       "    .dataframe tbody tr th:only-of-type {\n",
       "        vertical-align: middle;\n",
       "    }\n",
       "\n",
       "    .dataframe tbody tr th {\n",
       "        vertical-align: top;\n",
       "    }\n",
       "\n",
       "    .dataframe thead th {\n",
       "        text-align: right;\n",
       "    }\n",
       "</style>\n",
       "<table border=\"1\" class=\"dataframe\">\n",
       "  <thead>\n",
       "    <tr style=\"text-align: right;\">\n",
       "      <th></th>\n",
       "      <th>Height</th>\n",
       "      <th>Width</th>\n",
       "    </tr>\n",
       "  </thead>\n",
       "  <tbody>\n",
       "    <tr>\n",
       "      <th>0</th>\n",
       "      <td>11.5200</td>\n",
       "      <td>4.0200</td>\n",
       "    </tr>\n",
       "    <tr>\n",
       "      <th>1</th>\n",
       "      <td>12.4800</td>\n",
       "      <td>4.3056</td>\n",
       "    </tr>\n",
       "    <tr>\n",
       "      <th>2</th>\n",
       "      <td>12.3778</td>\n",
       "      <td>4.6961</td>\n",
       "    </tr>\n",
       "    <tr>\n",
       "      <th>3</th>\n",
       "      <td>12.7300</td>\n",
       "      <td>4.4555</td>\n",
       "    </tr>\n",
       "    <tr>\n",
       "      <th>4</th>\n",
       "      <td>12.4440</td>\n",
       "      <td>5.1340</td>\n",
       "    </tr>\n",
       "  </tbody>\n",
       "</table>\n",
       "</div>"
      ],
      "text/plain": [
       "    Height   Width\n",
       "0  11.5200  4.0200\n",
       "1  12.4800  4.3056\n",
       "2  12.3778  4.6961\n",
       "3  12.7300  4.4555\n",
       "4  12.4440  5.1340"
      ]
     },
     "execution_count": 18,
     "metadata": {},
     "output_type": "execute_result"
    }
   ],
   "source": [
    "X = data3[['Height', 'Width']]\n",
    "X.head()"
   ]
  },
  {
   "cell_type": "code",
   "execution_count": 19,
   "id": "09827b25",
   "metadata": {},
   "outputs": [
    {
     "data": {
      "text/plain": [
       "0    242.0\n",
       "1    290.0\n",
       "2    340.0\n",
       "3    363.0\n",
       "4    430.0\n",
       "Name: Weight, dtype: float64"
      ]
     },
     "execution_count": 19,
     "metadata": {},
     "output_type": "execute_result"
    }
   ],
   "source": [
    "y = data3['Weight']\n",
    "\n",
    "y.head()"
   ]
  },
  {
   "cell_type": "code",
   "execution_count": 20,
   "id": "a950741e",
   "metadata": {},
   "outputs": [
    {
     "name": "stdout",
     "output_type": "stream",
     "text": [
      "X_train dimension=  (124, 2)\n",
      "X_test dimension=  (31, 2)\n",
      "y_train dimension=  (124,)\n",
      "y_train dimension=  (31,)\n"
     ]
    }
   ],
   "source": [
    "X_train,X_test, y_train, y_test = train_test_split(X, y, test_size =0.2, random_state = 42) \n",
    "# Use paramter 'random_state=1' if you want keep results same everytime you execute above code\n",
    "print('X_train dimension= ', X_train.shape)\n",
    "print('X_test dimension= ', X_test.shape)\n",
    "print('y_train dimension= ', y_train.shape)\n",
    "print('y_train dimension= ', y_test.shape)"
   ]
  },
  {
   "cell_type": "code",
   "execution_count": 21,
   "id": "513cf6ed",
   "metadata": {},
   "outputs": [
    {
     "data": {
      "text/plain": [
       "LinearRegression()"
      ]
     },
     "execution_count": 21,
     "metadata": {},
     "output_type": "execute_result"
    }
   ],
   "source": [
    "model = linear_model.LinearRegression()\n",
    "model.fit(X_train,y_train)"
   ]
  },
  {
   "cell_type": "code",
   "execution_count": 22,
   "id": "261369d7",
   "metadata": {},
   "outputs": [
    {
     "name": "stdout",
     "output_type": "stream",
     "text": [
      "coef: [ 10.40686081 151.73209963]\n",
      "Intercept: -386.1676143554406\n"
     ]
    }
   ],
   "source": [
    "print('coef:' , model.coef_)\n",
    "print('Intercept:' ,model.intercept_)\n",
    "\n",
    "\n"
   ]
  },
  {
   "cell_type": "code",
   "execution_count": 23,
   "id": "a90b8d63",
   "metadata": {},
   "outputs": [
    {
     "name": "stdout",
     "output_type": "stream",
     "text": [
      "Score is : 0.8960229976573091\n"
     ]
    }
   ],
   "source": [
    "print('Score is :' , model.score(X_test , y_test))"
   ]
  },
  {
   "cell_type": "code",
   "execution_count": 24,
   "id": "10864110",
   "metadata": {},
   "outputs": [
    {
     "data": {
      "text/html": [
       "<div>\n",
       "<style scoped>\n",
       "    .dataframe tbody tr th:only-of-type {\n",
       "        vertical-align: middle;\n",
       "    }\n",
       "\n",
       "    .dataframe tbody tr th {\n",
       "        vertical-align: top;\n",
       "    }\n",
       "\n",
       "    .dataframe thead th {\n",
       "        text-align: right;\n",
       "    }\n",
       "</style>\n",
       "<table border=\"1\" class=\"dataframe\">\n",
       "  <thead>\n",
       "    <tr style=\"text-align: right;\">\n",
       "      <th></th>\n",
       "      <th>0</th>\n",
       "      <th>1</th>\n",
       "      <th>2</th>\n",
       "      <th>3</th>\n",
       "      <th>4</th>\n",
       "      <th>5</th>\n",
       "      <th>6</th>\n",
       "      <th>7</th>\n",
       "      <th>8</th>\n",
       "      <th>9</th>\n",
       "      <th>...</th>\n",
       "      <th>21</th>\n",
       "      <th>22</th>\n",
       "      <th>23</th>\n",
       "      <th>24</th>\n",
       "      <th>25</th>\n",
       "      <th>26</th>\n",
       "      <th>27</th>\n",
       "      <th>28</th>\n",
       "      <th>29</th>\n",
       "      <th>30</th>\n",
       "    </tr>\n",
       "  </thead>\n",
       "  <tbody>\n",
       "    <tr>\n",
       "      <th>Weight</th>\n",
       "      <td>110.000000</td>\n",
       "      <td>7.500000</td>\n",
       "      <td>955.000000</td>\n",
       "      <td>1000.0000</td>\n",
       "      <td>850.000000</td>\n",
       "      <td>55.000000</td>\n",
       "      <td>150.000000</td>\n",
       "      <td>10.000000</td>\n",
       "      <td>19.700000</td>\n",
       "      <td>200.000000</td>\n",
       "      <td>...</td>\n",
       "      <td>500.000000</td>\n",
       "      <td>500.000000</td>\n",
       "      <td>700.000000</td>\n",
       "      <td>273.000000</td>\n",
       "      <td>430.000000</td>\n",
       "      <td>225.000000</td>\n",
       "      <td>140.000000</td>\n",
       "      <td>120.000000</td>\n",
       "      <td>130.000000</td>\n",
       "      <td>1000.000000</td>\n",
       "    </tr>\n",
       "    <tr>\n",
       "      <th>Predicted Weight</th>\n",
       "      <td>212.481055</td>\n",
       "      <td>-189.636049</td>\n",
       "      <td>756.728427</td>\n",
       "      <td>813.0023</td>\n",
       "      <td>816.240658</td>\n",
       "      <td>38.098095</td>\n",
       "      <td>218.321182</td>\n",
       "      <td>-168.334196</td>\n",
       "      <td>-42.610188</td>\n",
       "      <td>277.385406</td>\n",
       "      <td>...</td>\n",
       "      <td>419.788276</td>\n",
       "      <td>514.386807</td>\n",
       "      <td>630.875714</td>\n",
       "      <td>358.001479</td>\n",
       "      <td>384.100355</td>\n",
       "      <td>254.628228</td>\n",
       "      <td>186.506555</td>\n",
       "      <td>207.382732</td>\n",
       "      <td>216.491025</td>\n",
       "      <td>896.328271</td>\n",
       "    </tr>\n",
       "  </tbody>\n",
       "</table>\n",
       "<p>2 rows × 31 columns</p>\n",
       "</div>"
      ],
      "text/plain": [
       "                          0           1           2          3           4   \\\n",
       "Weight            110.000000    7.500000  955.000000  1000.0000  850.000000   \n",
       "Predicted Weight  212.481055 -189.636049  756.728427   813.0023  816.240658   \n",
       "\n",
       "                         5           6           7          8           9   \\\n",
       "Weight            55.000000  150.000000   10.000000  19.700000  200.000000   \n",
       "Predicted Weight  38.098095  218.321182 -168.334196 -42.610188  277.385406   \n",
       "\n",
       "                  ...          21          22          23          24  \\\n",
       "Weight            ...  500.000000  500.000000  700.000000  273.000000   \n",
       "Predicted Weight  ...  419.788276  514.386807  630.875714  358.001479   \n",
       "\n",
       "                          25          26          27          28          29  \\\n",
       "Weight            430.000000  225.000000  140.000000  120.000000  130.000000   \n",
       "Predicted Weight  384.100355  254.628228  186.506555  207.382732  216.491025   \n",
       "\n",
       "                           30  \n",
       "Weight            1000.000000  \n",
       "Predicted Weight   896.328271  \n",
       "\n",
       "[2 rows x 31 columns]"
      ]
     },
     "execution_count": 24,
     "metadata": {},
     "output_type": "execute_result"
    }
   ],
   "source": [
    "predictedWeight = pd.DataFrame(model.predict(X_test), columns=['Predicted Weight']) # Create new dataframe of column'Predicted Weight'\n",
    "actualWeight = pd.DataFrame(y_test)\n",
    "actualWeight = actualWeight.reset_index(drop=True) # Drop the index so that we can concat it, to create new dataframe\n",
    "df_actual_vs_predicted = pd.concat([actualWeight,predictedWeight],axis =1)\n",
    "df_actual_vs_predicted.T"
   ]
  },
  {
   "cell_type": "code",
   "execution_count": 25,
   "id": "08cc366d",
   "metadata": {},
   "outputs": [],
   "source": [
    "def Visualize():\n",
    "    plt.scatter(X_test['Width'], y_test , color= 'red' , label = 'Actual Weight')\n",
    "    plt.scatter(X_test['Width']  , model.predict(X_test) , color = 'green' , label = 'Predicted Weight' )\n",
    "    plt.xlabel('Width')\n",
    "    plt.ylabel('Weight')\n",
    "    plt.rcParams[\"figure.figsize\"] = (10,6)\n",
    "    plt.title('Actual vs Predicted weight for Test Data')\n",
    "    plt.legend()\n",
    "    plt.show()\n",
    "    \n",
    "    "
   ]
  },
  {
   "cell_type": "code",
   "execution_count": 26,
   "id": "db3ebed2",
   "metadata": {},
   "outputs": [
    {
     "data": {
      "image/png": "[encoded data removed]",
      "text/plain": [
       "<Figure size 640x480 with 1 Axes>"
      ]
     },
     "metadata": {},
     "output_type": "display_data"
    }
   ],
   "source": [
    "Visualize()\n"
   ]
  },
  {
   "cell_type": "code",
   "execution_count": 27,
   "id": "af43234c",
   "metadata": {},
   "outputs": [
    {
     "name": "stderr",
     "output_type": "stream",
     "text": [
      "C:\\Users\\hjha0\\AppData\\Local\\Temp\\ipykernel_12584\\1508723769.py:2: UserWarning: \n",
      "\n",
      "`distplot` is a deprecated function and will be removed in seaborn v0.14.0.\n",
      "\n",
      "Please adapt your code to use either `displot` (a figure-level function with\n",
      "similar flexibility) or `histplot` (an axes-level function for histograms).\n",
      "\n",
      "For a guide to updating your code to use the new functions, please see\n",
      "https://gist.github.com/mwaskom/de44147ed2974457ad6372750bbe5751\n",
      "\n",
      "  sns.distplot((y_test-model.predict(X_test)))\n"
     ]
    },
    {
     "data": {
      "text/plain": [
       "Text(0.5, 1.0, 'Histogram of Residuals')"
      ]
     },
     "execution_count": 27,
     "metadata": {},
     "output_type": "execute_result"
    },
    {
     "data": {
      "image/png": "[encoded data removed]",
      "text/plain": [
       "<Figure size 1000x600 with 1 Axes>"
      ]
     },
     "metadata": {},
     "output_type": "display_data"
    }
   ],
   "source": [
    "#Evaluate the model\n",
    "sns.distplot((y_test-model.predict(X_test)))\n",
    "plt.rcParams[\"figure.figsize\"] = (10,6) # Custom figure size in inches\n",
    "plt.title(\"Histogram of Residuals\")"
   ]
  },
  {
   "cell_type": "code",
   "execution_count": null,
   "id": "7b74090e",
   "metadata": {},
   "outputs": [],
   "source": []
  }
 ],
 "metadata": {
  "kernelspec": {
   "display_name": "Python 3 (ipykernel)",
   "language": "python",
   "name": "python3"
  },
  "language_info": {
   "codemirror_mode": {
    "name": "ipython",
    "version": 3
   },
   "file_extension": ".py",
   "mimetype": "text/x-python",
   "name": "python",
   "nbconvert_exporter": "python",
   "pygments_lexer": "ipython3",
   "version": "3.9.7"
  }
 },
 "nbformat": 4,
 "nbformat_minor": 5
}
