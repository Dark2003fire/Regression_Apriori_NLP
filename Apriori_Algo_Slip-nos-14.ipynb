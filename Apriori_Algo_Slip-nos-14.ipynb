{
 "cells": [
  {
   "cell_type": "markdown",
   "id": "3d2449da",
   "metadata": {},
   "source": [
    "Create the following dataset in python & Convert the categorical values into numeric format.Apply \n",
    "the apriori algorithm on the above dataset to generate the frequent itemsets and association rules. Repeat \n",
    "the process with different min_sup values.\n",
    "TID Items\n",
    "1 {Apple , Mango , Banana}\n",
    "2 {Mango , Banana , Cabbage , Carrots}\n",
    "3 {Mango , Banana ,Carrots}\n",
    "4 {Mango , Carrots}\n"
   ]
  },
  {
   "cell_type": "code",
   "execution_count": 1,
   "id": "ad72883b",
   "metadata": {},
   "outputs": [],
   "source": [
    " import pandas as pd\n",
    "\n",
    "from mlxtend.preprocessing import TransactionEncoder\n",
    "\n",
    "from mlxtend.frequent_patterns import apriori\n",
    "\n",
    "from mlxtend.frequent_patterns import association_rules"
   ]
  },
  {
   "cell_type": "code",
   "execution_count": 2,
   "id": "4463bba1",
   "metadata": {},
   "outputs": [],
   "source": [
    "#Create Dataset\n",
    "dataset = [\n",
    "    \n",
    "        [\"Apple\" , \"Mango\" , \"Banana\"] ,\n",
    "        [\"Mango\" , \"Banana\" , \"Cabbage\" , \"Carrots\"] ,\n",
    "        [\"Mango\" ,\"banana\" , \"Carrots\" ] ,\n",
    "        [\"Mango\" , \"Carrots\"], \n",
    "    \n",
    "    \n",
    "]"
   ]
  },
  {
   "cell_type": "code",
   "execution_count": 3,
   "id": "bae1a8bf",
   "metadata": {},
   "outputs": [],
   "source": [
    "#Convert the list to dataframe with boolean Vlaues\n",
    "\n",
    "te = TransactionEncoder()\n",
    "\n",
    "te_array = te.fit(dataset).transform(dataset)\n",
    "\n",
    "df = pd.DataFrame(te_array , columns = te.columns_)"
   ]
  },
  {
   "cell_type": "code",
   "execution_count": 4,
   "id": "be1accc7",
   "metadata": {},
   "outputs": [
    {
     "name": "stdout",
     "output_type": "stream",
     "text": [
      "Result after Preprocessing\n",
      "   Apple  Banana  Cabbage  Carrots  Mango  banana\n",
      "0   True    True    False    False   True   False\n",
      "1  False    True     True     True   True   False\n",
      "2  False   False    False     True   True    True\n",
      "3  False   False    False     True   True   False\n"
     ]
    }
   ],
   "source": [
    "#Result after Preprocessing\n",
    "\n",
    "print(\"Result after Preprocessing\")\n",
    "\n",
    "print(df)"
   ]
  },
  {
   "cell_type": "code",
   "execution_count": 5,
   "id": "99f6fb18",
   "metadata": {},
   "outputs": [
    {
     "name": "stdout",
     "output_type": "stream",
     "text": [
      "\n",
      " Results after Applying  apriori Alogorithm\n",
      "    support                           itemsets\n",
      "0      0.25                            (Apple)\n",
      "1      0.50                           (Banana)\n",
      "2      0.25                          (Cabbage)\n",
      "3      0.75                          (Carrots)\n",
      "4      1.00                            (Mango)\n",
      "5      0.25                           (banana)\n",
      "6      0.25                    (Apple, Banana)\n",
      "7      0.25                     (Mango, Apple)\n",
      "8      0.25                  (Banana, Cabbage)\n",
      "9      0.25                  (Banana, Carrots)\n",
      "10     0.50                    (Mango, Banana)\n",
      "11     0.25                 (Cabbage, Carrots)\n",
      "12     0.25                   (Mango, Cabbage)\n",
      "13     0.75                   (Mango, Carrots)\n",
      "14     0.25                  (banana, Carrots)\n",
      "15     0.25                    (Mango, banana)\n",
      "16     0.25             (Mango, Apple, Banana)\n",
      "17     0.25         (Banana, Cabbage, Carrots)\n",
      "18     0.25           (Mango, Banana, Cabbage)\n",
      "19     0.25           (Mango, Banana, Carrots)\n",
      "20     0.25          (Mango, Cabbage, Carrots)\n",
      "21     0.25           (Mango, banana, Carrots)\n",
      "22     0.25  (Mango, Banana, Cabbage, Carrots)\n"
     ]
    }
   ],
   "source": [
    "#Find the frequently occuring itemsets using Apriori Algorithm:-\n",
    "frequent_itemsets_ap = apriori(df ,min_support=0.01 ,use_colnames=True)\n",
    "\n",
    "print(\"\\n Results after Applying  apriori Alogorithm\")\n",
    "\n",
    "print(frequent_itemsets_ap)"
   ]
  },
  {
   "cell_type": "code",
   "execution_count": 7,
   "id": "1bff5fb4",
   "metadata": {},
   "outputs": [
    {
     "name": "stdout",
     "output_type": "stream",
     "text": [
      "\n",
      " Frequent 2 Item Sets\n",
      "    support                           itemsets  length\n",
      "6      0.25                    (Apple, Banana)       2\n",
      "7      0.25                     (Mango, Apple)       2\n",
      "8      0.25                  (Banana, Cabbage)       2\n",
      "9      0.25                  (Banana, Carrots)       2\n",
      "10     0.50                    (Mango, Banana)       2\n",
      "11     0.25                 (Cabbage, Carrots)       2\n",
      "12     0.25                   (Mango, Cabbage)       2\n",
      "13     0.75                   (Mango, Carrots)       2\n",
      "14     0.25                  (banana, Carrots)       2\n",
      "15     0.25                    (Mango, banana)       2\n",
      "16     0.25             (Mango, Apple, Banana)       3\n",
      "17     0.25         (Banana, Cabbage, Carrots)       3\n",
      "18     0.25           (Mango, Banana, Cabbage)       3\n",
      "19     0.25           (Mango, Banana, Carrots)       3\n",
      "20     0.25          (Mango, Cabbage, Carrots)       3\n",
      "21     0.25           (Mango, banana, Carrots)       3\n",
      "22     0.25  (Mango, Banana, Cabbage, Carrots)       4\n",
      "\n",
      " Frequent 3 Item sets\n",
      "    support                           itemsets  length\n",
      "16     0.25             (Mango, Apple, Banana)       3\n",
      "17     0.25         (Banana, Cabbage, Carrots)       3\n",
      "18     0.25           (Mango, Banana, Cabbage)       3\n",
      "19     0.25           (Mango, Banana, Carrots)       3\n",
      "20     0.25          (Mango, Cabbage, Carrots)       3\n",
      "21     0.25           (Mango, banana, Carrots)       3\n",
      "22     0.25  (Mango, Banana, Cabbage, Carrots)       4\n",
      "\n",
      " Frequent 4 Item sets\n",
      "    support                           itemsets  length\n",
      "22     0.25  (Mango, Banana, Cabbage, Carrots)       4\n"
     ]
    }
   ],
   "source": [
    "#Mine the Association Rules\n",
    "\n",
    "rules_ap = association_rules(frequent_itemsets_ap , metric=\"confidence\" , min_threshold=0.8)\n",
    "\n",
    "frequent_itemsets_ap['length'] = frequent_itemsets_ap['itemsets'].apply(lambda x: len(x))\n",
    "print(\"\\n Frequent 2 Item Sets\")\n",
    "\n",
    "print(frequent_itemsets_ap[frequent_itemsets_ap['length']>=2])\n",
    "\n",
    "print(\"\\n Frequent 3 Item sets\")\n",
    "\n",
    "print(frequent_itemsets_ap[frequent_itemsets_ap['length']>=3])\n",
    "\n",
    "\n",
    "print(\"\\n Frequent 4 Item sets\")\n",
    "\n",
    "print(frequent_itemsets_ap[frequent_itemsets_ap['length']>=4])"
   ]
  },
  {
   "cell_type": "code",
   "execution_count": null,
   "id": "b700ad83",
   "metadata": {},
   "outputs": [],
   "source": []
  }
 ],
 "metadata": {
  "kernelspec": {
   "display_name": "Python 3 (ipykernel)",
   "language": "python",
   "name": "python3"
  },
  "language_info": {
   "codemirror_mode": {
    "name": "ipython",
    "version": 3
   },
   "file_extension": ".py",
   "mimetype": "text/x-python",
   "name": "python",
   "nbconvert_exporter": "python",
   "pygments_lexer": "ipython3",
   "version": "3.9.7"
  }
 },
 "nbformat": 4,
 "nbformat_minor": 5
}
