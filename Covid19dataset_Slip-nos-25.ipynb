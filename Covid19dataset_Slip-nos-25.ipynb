{
 "cells": [
  {
   "cell_type": "markdown",
   "id": "0e22b8af",
   "metadata": {},
   "source": [
    " Consider the following dataset : https://www.kaggle.com/datasets/seungguini/youtube-comments\u0002for-covid19-relatedvideos?select=covid_2021_1.csv \n",
    "Write a Python script for the following :\n",
    "i. Read the dataset and perform data cleaning operations on it. \n",
    "ii. ii. Tokenize the comments in words. iii. Perform sentiment analysis and find the percentage of \n",
    "positive, negative and neutral comments.."
   ]
  },
  {
   "cell_type": "code",
   "execution_count": 1,
   "id": "dc79d2fd",
   "metadata": {},
   "outputs": [],
   "source": [
    "from mpl_toolkits.mplot3d import Axes3D\n",
    "from sklearn.preprocessing import StandardScaler\n",
    "import matplotlib.pyplot as plt \n",
    "import numpy as np \n",
    "import os \n",
    "import pandas as pd\n",
    "\n",
    "import nltk\n",
    "from nltk.corpus import stopwords\n",
    "from nltk.tokenize import word_tokenize, sent_tokenize"
   ]
  },
  {
   "cell_type": "code",
   "execution_count": 3,
   "id": "63152d75",
   "metadata": {},
   "outputs": [
    {
     "name": "stdout",
     "output_type": "stream",
     "text": [
      "There are 4200 rows and 13 columns\n"
     ]
    }
   ],
   "source": [
    "# i. Read the dataset and perform data cleaning operations on it. \n",
    "nRowsRead = 1000\n",
    "df1 = pd.read_csv('youtube_comments_coronavirus.csv')\n",
    "#df1.dataframeName = 'youtube_comments_coronavirus.csv'\n",
    "nRow, nCol = df1.shape\n",
    "print(f'There are {nRow} rows and {nCol} columns')"
   ]
  },
  {
   "cell_type": "code",
   "execution_count": 4,
   "id": "f8b36c3e",
   "metadata": {},
   "outputs": [
    {
     "data": {
      "text/html": [
       "<div>\n",
       "<style scoped>\n",
       "    .dataframe tbody tr th:only-of-type {\n",
       "        vertical-align: middle;\n",
       "    }\n",
       "\n",
       "    .dataframe tbody tr th {\n",
       "        vertical-align: top;\n",
       "    }\n",
       "\n",
       "    .dataframe thead th {\n",
       "        text-align: right;\n",
       "    }\n",
       "</style>\n",
       "<table border=\"1\" class=\"dataframe\">\n",
       "  <thead>\n",
       "    <tr style=\"text-align: right;\">\n",
       "      <th></th>\n",
       "      <th>query</th>\n",
       "      <th>url</th>\n",
       "      <th>title</th>\n",
       "      <th>upload_date</th>\n",
       "      <th>channel</th>\n",
       "      <th>views</th>\n",
       "      <th>likes</th>\n",
       "      <th>dislikes</th>\n",
       "      <th>comment_count</th>\n",
       "      <th>comment_text</th>\n",
       "      <th>comment_author</th>\n",
       "      <th>comment_date</th>\n",
       "      <th>comment_likes</th>\n",
       "    </tr>\n",
       "  </thead>\n",
       "  <tbody>\n",
       "    <tr>\n",
       "      <th>0</th>\n",
       "      <td>coronavirus</td>\n",
       "      <td>https://www.youtube.com/watch?v=BtulL3oArQw</td>\n",
       "      <td>Ghen Cô Vy| NIOEH x K.HƯNG x MIN x ERIK | WASH...</td>\n",
       "      <td>2020-02-23T11:30:00Z</td>\n",
       "      <td>MIN OFFICIAL</td>\n",
       "      <td>75069587</td>\n",
       "      <td>580779</td>\n",
       "      <td>39727</td>\n",
       "      <td>27009</td>\n",
       "      <td>Ghen Co Vy - Official English Version: https:/...</td>\n",
       "      <td>MIN OFFICIAL</td>\n",
       "      <td>2020-04-09T14:10:58Z</td>\n",
       "      <td>2705</td>\n",
       "    </tr>\n",
       "    <tr>\n",
       "      <th>1</th>\n",
       "      <td>coronavirus</td>\n",
       "      <td>https://www.youtube.com/watch?v=BtulL3oArQw</td>\n",
       "      <td>Ghen Cô Vy| NIOEH x K.HƯNG x MIN x ERIK | WASH...</td>\n",
       "      <td>2020-02-23T11:30:00Z</td>\n",
       "      <td>MIN OFFICIAL</td>\n",
       "      <td>75069587</td>\n",
       "      <td>580779</td>\n",
       "      <td>39727</td>\n",
       "      <td>27009</td>\n",
       "      <td>me trying to sing this: owjebeheidishwbeiodjd ...</td>\n",
       "      <td>My Raging Whormoans</td>\n",
       "      <td>2020-03-02T17:13:03Z</td>\n",
       "      <td>15184</td>\n",
       "    </tr>\n",
       "    <tr>\n",
       "      <th>2</th>\n",
       "      <td>coronavirus</td>\n",
       "      <td>https://www.youtube.com/watch?v=BtulL3oArQw</td>\n",
       "      <td>Ghen Cô Vy| NIOEH x K.HƯNG x MIN x ERIK | WASH...</td>\n",
       "      <td>2020-02-23T11:30:00Z</td>\n",
       "      <td>MIN OFFICIAL</td>\n",
       "      <td>75069587</td>\n",
       "      <td>580779</td>\n",
       "      <td>39727</td>\n",
       "      <td>27009</td>\n",
       "      <td>30 million people didn't xoa xoa xoa xoa xoa</td>\n",
       "      <td>Nick B</td>\n",
       "      <td>2020-09-18T17:48:38Z</td>\n",
       "      <td>485</td>\n",
       "    </tr>\n",
       "    <tr>\n",
       "      <th>3</th>\n",
       "      <td>coronavirus</td>\n",
       "      <td>https://www.youtube.com/watch?v=BtulL3oArQw</td>\n",
       "      <td>Ghen Cô Vy| NIOEH x K.HƯNG x MIN x ERIK | WASH...</td>\n",
       "      <td>2020-02-23T11:30:00Z</td>\n",
       "      <td>MIN OFFICIAL</td>\n",
       "      <td>75069587</td>\n",
       "      <td>580779</td>\n",
       "      <td>39727</td>\n",
       "      <td>27009</td>\n",
       "      <td>This is cool!Vietnam is so talented! I’m from ...</td>\n",
       "      <td>Deleted user</td>\n",
       "      <td>2020-11-27T00:14:26Z</td>\n",
       "      <td>149</td>\n",
       "    </tr>\n",
       "    <tr>\n",
       "      <th>4</th>\n",
       "      <td>coronavirus</td>\n",
       "      <td>https://www.youtube.com/watch?v=BtulL3oArQw</td>\n",
       "      <td>Ghen Cô Vy| NIOEH x K.HƯNG x MIN x ERIK | WASH...</td>\n",
       "      <td>2020-02-23T11:30:00Z</td>\n",
       "      <td>MIN OFFICIAL</td>\n",
       "      <td>75069587</td>\n",
       "      <td>580779</td>\n",
       "      <td>39727</td>\n",
       "      <td>27009</td>\n",
       "      <td>If y’all wanna learn Vietnamese for this song,...</td>\n",
       "      <td>thatweird _kid</td>\n",
       "      <td>2020-10-29T00:50:40Z</td>\n",
       "      <td>276</td>\n",
       "    </tr>\n",
       "  </tbody>\n",
       "</table>\n",
       "</div>"
      ],
      "text/plain": [
       "         query                                          url  \\\n",
       "0  coronavirus  https://www.youtube.com/watch?v=BtulL3oArQw   \n",
       "1  coronavirus  https://www.youtube.com/watch?v=BtulL3oArQw   \n",
       "2  coronavirus  https://www.youtube.com/watch?v=BtulL3oArQw   \n",
       "3  coronavirus  https://www.youtube.com/watch?v=BtulL3oArQw   \n",
       "4  coronavirus  https://www.youtube.com/watch?v=BtulL3oArQw   \n",
       "\n",
       "                                               title           upload_date  \\\n",
       "0  Ghen Cô Vy| NIOEH x K.HƯNG x MIN x ERIK | WASH...  2020-02-23T11:30:00Z   \n",
       "1  Ghen Cô Vy| NIOEH x K.HƯNG x MIN x ERIK | WASH...  2020-02-23T11:30:00Z   \n",
       "2  Ghen Cô Vy| NIOEH x K.HƯNG x MIN x ERIK | WASH...  2020-02-23T11:30:00Z   \n",
       "3  Ghen Cô Vy| NIOEH x K.HƯNG x MIN x ERIK | WASH...  2020-02-23T11:30:00Z   \n",
       "4  Ghen Cô Vy| NIOEH x K.HƯNG x MIN x ERIK | WASH...  2020-02-23T11:30:00Z   \n",
       "\n",
       "        channel     views   likes  dislikes  comment_count  \\\n",
       "0  MIN OFFICIAL  75069587  580779     39727          27009   \n",
       "1  MIN OFFICIAL  75069587  580779     39727          27009   \n",
       "2  MIN OFFICIAL  75069587  580779     39727          27009   \n",
       "3  MIN OFFICIAL  75069587  580779     39727          27009   \n",
       "4  MIN OFFICIAL  75069587  580779     39727          27009   \n",
       "\n",
       "                                        comment_text       comment_author  \\\n",
       "0  Ghen Co Vy - Official English Version: https:/...         MIN OFFICIAL   \n",
       "1  me trying to sing this: owjebeheidishwbeiodjd ...  My Raging Whormoans   \n",
       "2       30 million people didn't xoa xoa xoa xoa xoa               Nick B   \n",
       "3  This is cool!Vietnam is so talented! I’m from ...         Deleted user   \n",
       "4  If y’all wanna learn Vietnamese for this song,...       thatweird _kid   \n",
       "\n",
       "           comment_date  comment_likes  \n",
       "0  2020-04-09T14:10:58Z           2705  \n",
       "1  2020-03-02T17:13:03Z          15184  \n",
       "2  2020-09-18T17:48:38Z            485  \n",
       "3  2020-11-27T00:14:26Z            149  \n",
       "4  2020-10-29T00:50:40Z            276  "
      ]
     },
     "execution_count": 4,
     "metadata": {},
     "output_type": "execute_result"
    }
   ],
   "source": [
    "df1.head(5)"
   ]
  },
  {
   "cell_type": "code",
   "execution_count": 10,
   "id": "d2255cc3",
   "metadata": {},
   "outputs": [
    {
     "data": {
      "text/plain": [
       "query             0\n",
       "url               0\n",
       "title             0\n",
       "upload_date       0\n",
       "channel           0\n",
       "views             0\n",
       "likes             0\n",
       "dislikes          0\n",
       "comment_count     0\n",
       "comment_text      0\n",
       "comment_author    0\n",
       "comment_date      0\n",
       "comment_likes     0\n",
       "dtype: int64"
      ]
     },
     "execution_count": 10,
     "metadata": {},
     "output_type": "execute_result"
    }
   ],
   "source": [
    "df1.isnull().sum()\n"
   ]
  },
  {
   "cell_type": "code",
   "execution_count": 14,
   "id": "21b20ace",
   "metadata": {},
   "outputs": [
    {
     "data": {
      "text/plain": [
       "(4200, 13)"
      ]
     },
     "execution_count": 14,
     "metadata": {},
     "output_type": "execute_result"
    }
   ],
   "source": [
    "df1.shape"
   ]
  },
  {
   "cell_type": "code",
   "execution_count": null,
   "id": "7ded2f14",
   "metadata": {},
   "outputs": [],
   "source": [
    "to_drop = ['url' , 'title' ,'views' , 'likes', 'dislikes']\n",
    "\n",
    "df1.drop(to_drop, inplace=True, axis=1)\n",
    "\n",
    "print(df1.head())"
   ]
  },
  {
   "cell_type": "code",
   "execution_count": 43,
   "id": "03d4d608",
   "metadata": {},
   "outputs": [
    {
     "name": "stdout",
     "output_type": "stream",
     "text": [
      "0    Ghen Co Vy - Official English Version: https:/...\n",
      "1    me trying to sing this: owjebeheidishwbeiodjd ...\n",
      "2          30 million people didn't xoa xoa xoa xoa xo\n",
      "3    This is cool!Vietnam is so talented! I’m from ...\n",
      "4    If y’all wanna learn Vietnamese for this song,...\n",
      "Name: comment_text, dtype: object\n"
     ]
    }
   ],
   "source": [
    "data = df1['comment_text'].map(lambda x: x.lstrip('+-').rstrip('aAbBcC'))\n",
    "print(data.head())"
   ]
  },
  {
   "cell_type": "code",
   "execution_count": 45,
   "id": "e0b87c45",
   "metadata": {},
   "outputs": [
    {
     "name": "stdout",
     "output_type": "stream",
     "text": [
      "['Everyone', 'who', 'reads', 'this', 'message', 'may', 'your', 'mother', 'lives', 'a', '100', 'years', '.', 'Just', 'imagine', ',', 'years', 'from', 'now', 'kids', 'are', 'gon', 'na', 'watch', 'this', 'in', 'class', 'and', 'take', 'a', 'test', 'on', 'this', 'pandemic', 'Who', 'else', 'started', 'manually', 'breathing', 'while', 'watching', 'the', 'part', 'of', 'the', 'video', 'talking', 'and', 'showing', 'lungs', 'See', 'you', 'in', '10', 'years', 'when', 'it', 'gets', 'recommended', 'to', 'you', '!', '!', '!', 'When', 'I', 'get', 'the', 'vaccine', 'I', 'hope', 'I', 'would', 'get', 'the', 'War', 'Hammer', 'titan', '.', 'Canâ€™t', 'wait', 'for', 'this', 'to', 'be', 'all', 'over', 'Jet', 'lock', 'airplane', 'travellerscoronavirus', 'without', 'air', 'plane', 'hospital', 'becoming', 'airplanes', 'to', 'spread', 'corona', 'virus', 'I', 'have', 'had', 'covid', 'for', '12', 'days', 'and', 'my', 'dad', 'has', 'had', 'it', 'for', '17', 'days', 'I', 'hope', 'we', 'get', 'well', 'soon', 'and', 'I', 'hope', 'all', 'of', 'you', 'guys', 'that', 'are', 'struggling', 'yk', 'with', 'the', 'virus', 'get', 'well', 'soon', 'This', 'virus', 'has', 'really', 'taught', 'me', 'to', 'appreciate', 'what', 'you', 'and', 'the', 'people', 'you', 'have', 'because', 'you', 'never', 'know', 'when', 'youâ€™ll', 'see', 'them', 'again', 'here', 'we', 'are', '2021', 'less', 'then', 'a', 'year', 'latter', '!', 'HUMANITY', 'is', 'extraordinary', 'My', 'grandma', 'suffers', 'from', 'corona', 'and', 'is', 'ICU', ',', 'I', 'would', 'ask', 'everyone', 'to', 'pray', 'for', 'her', 'fast', 'recovery', 'ðŸ˜¢', 'The', 'start', 'Everyone', 'be', 'like', ':', 'COVER', 'YOUR', 'SNEEZE', 'The', 'festive', 'dime', 'phylogenetically', 'flower', 'because', 'arch', 'longitudinally', 'seal', 'absent', 'a', 'cold', 'playroom', '.', 'sweet', ',', 'sick', 'spleen', 'Corona', \"''\", 'is', 'the', 'Spanish', ',', 'Catalan', ',', 'Hungarian', ',', 'and', 'Italian', 'word', 'for', '``', 'crown', \"''\", '.', 'prayers', 'to', 'everyone', 'who', 'got', 'covid-19', 'Who', 'ever', 'reading', 'this', '-', 'I', 'pray', 'for', 'you', 'and', 'your', 'family', \"'s\", 'good', 'health', '.', 'ÐŸÐ¾Ð', '»', 'Ñ‚Ð¾Ñ€Ñ‹', 'Ð½ÐµÐ´ÐµÐ', '»', 'Ð¸', 'Ñ‚ÐµÐ¼Ð¿ÐµÑ€Ð°Ñ‚ÑƒÑ€Ð°', ',', 'Ð½ÐµÐ´ÐµÐ', '»', 'ÑŽ', 'Ð´Ð¸Ð°Ñ€ÐµÑ\\x8f', ',', 'Ñ‚Ñ€Ð¸', 'Ð´Ð½Ñ\\x8f', 'Ð´Ð°Ð²Ð', '»', 'ÐµÐ½Ð¸Ðµ', 'Ð¸', 'ÐºÑ€Ð¾Ð²ÑŒ', 'Ð¸Ð·', 'Ð´ÐµÑ\\x81ÐµÐ½', ',', 'Ð¿Ð¾Ñ‚Ð¾Ð¼', 'Ð½ÐµÐ´ÐµÐ', '»', 'Ñ\\x8f', 'ÐºÐ°ÑˆÐ', '»', 'Ñ\\x8f', 'Ð¸', 'Ñ\\x81Ð', '»', 'Ð°Ð±Ð¾Ñ\\x81Ñ‚Ð¸', '.', 'My', 'mother', 'is', 'experiencing', 'time', 'to', 'time', 'fever', ',', 'extreme', 'weakness', ',', 'headaches', ',', 'mild', 'cough', ',', 'chills', 'and', 'back', 'pain', '...', 'I', \"'m\", 'confused', 'n', 'scared', 'about', 'her', 'plz', 'pray', 'for', 'her', 'recovery', 'and', 'healthâ\\x9d¤ï¸\\x8f', 'That', \"'s\", 'life', 'and', 'you', 'never', 'know', 'what', 'tomorrow', 'brings', '!', '!', 'Every', 'vacation', 'we', 'swolling', 'corona', 'virus', 'germs', 'in', 'flight', 'zuzubi', 'matter', '6', 'months', 'problem', 'Dear', '2019', ',', 'Iâ€™m', 'sorry', 'Iâ€™ve', 'ever', 'complained', 'about', 'youðŸ˜\\xadðŸ˜‚', '99.5', '%', 'live', 'after', 'infection', 'of', 'C19', 'you', 'end', 'up', 'living', 'It', 'was', 'predicted', 'that', 'coronavirus', 'would', 'end', 'by', 'the', 'end', 'of', 'this', 'year', 'so', 'buckle', 'up', 'Some', 'people', 'just', 'die', 'from', 'this', 'so', 'sad', 'found', 'out', 'wow', 'god', 'bless', 'them', 'and', 'those', 'people', 'going', 'through', 'losing', 'there', 'fam', 'man', 'wow', '.', 'I', 'hate', 'having', 'to', 'isolate', 'for', 'this', 'long', '.', 'I', 'got', 'it', 'then', '2', 'weeks', 'later', 'my', 'kids', 'got', 'it', '.', 'I', 'have', 'been', 'inside', 'for', '3', 'weeks', '.', 'It', \"'s\", 'really', 'affecting', 'my', 'mental', 'health', '.', 'The', 'lonely', 'objective', 'ipsilaterally', 'mine', 'because', 'invention', 'eventually', 'dream', 'amongst', 'a', 'abortive', 'pants', '.', 'hurried', ',', 'fine', 'zinc', 'Ã', '“', 'timo', 'vÃ\\xaddeo', ',', 'Ã³tima', 'explicaÃ§Ã£o', 'Simplesmente', ',', 'ameiiiâ\\x9d¤ï¸\\x8f', 'This', 'channel', 'is', 'PERFECT', 'ABSOLUTELY', 'PERFECT', ',', 'other', 'than', 'the', 'graphics', 'and', 'amazing', 'animations', ',', 'this', 'thing', 'has', 'been', 'helpful', 'to', 'know', '!', 'Thanks', 'to', 'you', '...', 'no', 'all', 'of', 'nucleus', 'medical', 'media', 'i', 'found', 'out', 'the', 'perfect', 'video', 'to', 'share', 'to', 'my', 'classmates', 'at', 'home', '.', 'Keep', 'up', 'thew', 'good', 'work', ',', 'stay', 'safe', 'and', 'stay', 'strong', '!', 'Thanks', 'So', 'Much', 'Dr', 'Otor', 'for', 'your', 'wonderful', 'change', 'in', 'my', 'life', 'with', 'your', 'Herbal', 'Medicine', 'curing', 'my', 'Herpes', 'illness', 'I', 'love', 'you', 'so', 'much', 'Dr', 'Otor', 'RIP', 'to', 'all', 'that', 'have', 'died', 'from', 'Covid', '19', '.', 'We', 'will', 'never', 'forget', 'this', 'terrible', 'tragedy', '.', 'ã‚³ãƒ\\xadãƒŠäººé¡žæ', '»', '…ã\\x81³ã‚‹ã€€ã€€ç—…åŽŸå¾®ç', '”', 'Ÿç‰©å·', '»', 'ã\\x81\\x8dè¿', '”', 'ã\\x81—', 'how', 'could', 'you', 'say', 'that', 'is', 'sars', 'cov2', '?', 'when', 'it', 'has', \"n't\", 'been', 'isolated', 'or', 'photographed', '?', 'are', 'you', 'parroting', 'the', 'theories', '?', 'My', 'body', 'does', 'more', 'work', 'then', 'me', ',', 'itâ€™s', 'fighting', 'wars', 'while', 'I', 'sit', 'on', 'my', 'couch']\n"
     ]
    }
   ],
   "source": [
    "# ii. Tokenize the comments in words.\n",
    "text = \"\"\"\n",
    "\n",
    "Everyone who reads this message may your mother lives a 100 years.\n",
    "Just imagine, years from now kids are gonna watch this in class and take a test on this pandemic\n",
    "Who else started manually breathing while watching the part of the video talking and showing lungs\n",
    "See you in 10 years when it gets recommended to you!!!\n",
    "When I get the vaccine I hope I would get the War Hammer titan.\n",
    "Canâ€™t wait for this to be all over\n",
    "Jet lock airplane travellerscoronavirus without air plane hospital becoming airplanes to spread corona virus\n",
    "I have had covid for 12 days and my dad has had it for 17 days I hope we get well soon and I hope all of you guys that are struggling yk with the virus get well soon\n",
    "This virus has really taught me to appreciate what you and the people you have because you never know when youâ€™ll see them again\n",
    "here we are 2021 less then a year latter! HUMANITY is extraordinary\n",
    "My grandma suffers from corona and is ICU, I would ask everyone to pray for her fast recovery ðŸ˜¢\n",
    "The start  Everyone be like: COVER YOUR SNEEZE\n",
    "The festive dime phylogenetically flower because arch longitudinally seal absent a cold playroom. sweet, sick spleen\n",
    "Corona\" is the Spanish, Catalan, Hungarian, and Italian word for \"crown\".\n",
    "prayers to everyone who got covid-19\n",
    "Who ever reading this - I pray for you and your family's good health.\n",
    "ÐŸÐ¾Ð»Ñ‚Ð¾Ñ€Ñ‹ Ð½ÐµÐ´ÐµÐ»Ð¸ Ñ‚ÐµÐ¼Ð¿ÐµÑ€Ð°Ñ‚ÑƒÑ€Ð°, Ð½ÐµÐ´ÐµÐ»ÑŽ Ð´Ð¸Ð°Ñ€ÐµÑ, Ñ‚Ñ€Ð¸ Ð´Ð½Ñ Ð´Ð°Ð²Ð»ÐµÐ½Ð¸Ðµ Ð¸ ÐºÑ€Ð¾Ð²ÑŒ Ð¸Ð· Ð´ÐµÑÐµÐ½,  Ð¿Ð¾Ñ‚Ð¾Ð¼ Ð½ÐµÐ´ÐµÐ»Ñ ÐºÐ°ÑˆÐ»Ñ Ð¸ ÑÐ»Ð°Ð±Ð¾ÑÑ‚Ð¸.\n",
    "My mother is experiencing time to time fever,extreme weakness,headaches,mild cough,chills and back pain... I'm confused n scared about her plz pray for her recovery and healthâ¤ï¸\n",
    "That's life and you never know what tomorrow brings !!\n",
    "Every vacation we swolling corona virus germs in flight zuzubi matter 6 months problem\n",
    "Dear 2019, Iâ€™m sorry Iâ€™ve ever complained about youðŸ˜­ðŸ˜‚\n",
    "99.5% live after infection of C19 you end up living\n",
    "It was predicted that coronavirus would end by the end of this year so buckle up\n",
    "Some people just die from this so sad found out wow god bless them and those people going through losing there fam man wow.\n",
    "I hate having to isolate for this long. I got it then 2 weeks later my kids got it. I have been inside for 3 weeks. It's really affecting my mental health.\n",
    "The lonely objective ipsilaterally mine because invention eventually dream amongst a abortive pants. hurried, fine zinc\n",
    "Ã“timo vÃ­deo, Ã³tima explicaÃ§Ã£o Simplesmente,ameiiiâ¤ï¸\n",
    "This channel is PERFECT ABSOLUTELY PERFECT, other than the graphics and amazing animations, this thing has been helpful to know! Thanks to you... no all of nucleus medical media i found out the perfect video to share to my classmates at home. Keep up thew good work, stay safe and stay strong!\n",
    "Thanks So Much Dr Otor for your wonderful change in my life with your Herbal Medicine curing my Herpes illness I love you so much Dr Otor\n",
    "RIP to all that have died from Covid 19. We will never forget this terrible tragedy.\n",
    "ã‚³ãƒ­ãƒŠäººé¡žæ»…ã³ã‚‹ã€€ã€€ç—…åŽŸå¾®ç”Ÿç‰©å·»ãè¿”ã—\n",
    "how could you say that is sars cov2? when it hasn't been isolated or photographed? are you parroting the theories?\n",
    "My body does more work then me, itâ€™s fighting wars while I sit on my couch\n",
    "\n",
    "\n",
    "\n",
    "\"\"\"\n",
    "stopWords = set(stopwords.words(\"english\"))\n",
    "words = word_tokenize(text)\n",
    "\n",
    "\n",
    "print(words)"
   ]
  },
  {
   "cell_type": "code",
   "execution_count": 35,
   "id": "ebe383b9",
   "metadata": {},
   "outputs": [
    {
     "data": {
      "text/plain": [
       "'\\n    \\n    \\n    \\n    # picking negative tweets from tweets\\n    ntweets = [tweet for tweet in tweets if tweet[\\'sentiment\\'] == \\'negative\\']\\n    # percentage of negative tweets\\n    print(\"Negative tweets percentage: {} %\".format(100*len(ntweets)/len(tweets)))\\n    # percentage of neutral tweets\\n    print(\"Neutral tweets percentage: {} %         \".format(100*(len(tweets) -(len( ntweets )+len( ptweets)))/len(tweets)))\\n\\n    # printing first 5 positive tweets\\n    print(\"\\n\\nPositive tweets:\")\\n    for tweet in ptweets[:10]:\\n        print(tweet[\\'text\\'])\\n\\n    # printing first 5 negative tweets\\n    print(\"\\n\\nNegative tweets:\")\\n    for tweet in ntweets[:10]:\\n        print(tweet[\\'text\\'])\\n        \\n        \\n        \\n        \\n'"
      ]
     },
     "execution_count": 35,
     "metadata": {},
     "output_type": "execute_result"
    }
   ],
   "source": [
    "\n",
    "\n",
    "\n",
    "\n",
    "\n",
    "#iii. Perform sentiment analysis and find the percentage of positive, negative and neutral comments..\n",
    "\n",
    "      \n",
    "\n",
    "    \n",
    "    \n",
    "    \n",
    "    # picking negative comments  from words\n",
    "    ntweets = [for word in words if words['comment_text'] == 'negative']\n",
    "    \n",
    "    # percentage of negative tweets\n",
    "    print(\"Negative tweets percentage: {} %\".format(100*len(words)/len(words)))\n",
    "    \n",
    "    # percentage of neutral tweets\n",
    "    print(\"Neutral tweets percentage: {} % \\\n",
    "        \".format(100*(len(tweets) -(len( words )+len(words)))/len(word)))\n",
    "\n",
    "    # printing first 5 positive tweets\n",
    "    print(\"\\n\\nPositive tweets:\")\n",
    "    for tweet in ptweets[:10]:\n",
    "        print(tweet['text'])\n",
    "\n",
    "    # printing first 5 negative tweets\n",
    "    print(\"\\n\\nNegative tweets:\")\n",
    "    for tweet in ntweets[:10]:\n",
    "        print(tweet['text'])\n",
    "        \n",
    "        \n",
    "        \n",
    "        \n"
   ]
  },
  {
   "cell_type": "code",
   "execution_count": null,
   "id": "f549e227",
   "metadata": {},
   "outputs": [],
   "source": []
  },
  {
   "cell_type": "code",
   "execution_count": null,
   "id": "b8fc8328",
   "metadata": {},
   "outputs": [],
   "source": []
  },
  {
   "cell_type": "code",
   "execution_count": null,
   "id": "8dc454ad",
   "metadata": {},
   "outputs": [],
   "source": []
  }
 ],
 "metadata": {
  "kernelspec": {
   "display_name": "Python 3 (ipykernel)",
   "language": "python",
   "name": "python3"
  },
  "language_info": {
   "codemirror_mode": {
    "name": "ipython",
    "version": 3
   },
   "file_extension": ".py",
   "mimetype": "text/x-python",
   "name": "python",
   "nbconvert_exporter": "python",
   "pygments_lexer": "ipython3",
   "version": "3.9.7"
  }
 },
 "nbformat": 4,
 "nbformat_minor": 5
}
