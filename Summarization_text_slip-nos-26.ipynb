{
 "cells": [
  {
   "cell_type": "markdown",
   "id": "c4b7c168",
   "metadata": {},
   "source": [
    "Consider text paragraph. \"\"\"Hello all, Welcome to Python Programming Academy. Python \n",
    "Programming Academy is a nice platform to learn new programming skills. It is difficult to get enrolled \n",
    "in this Academy.\"\"\" Preprocess the text to remove any special characters and digits. Generate the \n",
    "summary using extractive summarization process. "
   ]
  },
  {
   "cell_type": "code",
   "execution_count": 1,
   "id": "2d3d56ef",
   "metadata": {},
   "outputs": [],
   "source": [
    "# importing libraries\n",
    "import nltk\n",
    "from nltk.corpus import stopwords\n",
    "from nltk.tokenize import word_tokenize, sent_tokenize"
   ]
  },
  {
   "cell_type": "code",
   "execution_count": 2,
   "id": "687f6e6c",
   "metadata": {},
   "outputs": [],
   "source": [
    "# Input text - to summarize\n",
    "text = \"\"\" Hello all, Welcome to Python Programming Academy. Python Programming Academy\n",
    "is a nice platform to learn new programming skills. It is difficult to get enrolled in this Academy.\"\"\"\n",
    "\n"
   ]
  },
  {
   "cell_type": "code",
   "execution_count": 3,
   "id": "13f9042a",
   "metadata": {},
   "outputs": [
    {
     "name": "stdout",
     "output_type": "stream",
     "text": [
      "['Hello', 'all', ',', 'Welcome', 'to', 'Python', 'Programming', 'Academy', '.', 'Python', 'Programming', 'Academy', 'is', 'a', 'nice', 'platform', 'to', 'learn', 'new', 'programming', 'skills', '.', 'It', 'is', 'difficult', 'to', 'get', 'enrolled', 'in', 'this', 'Academy', '.']\n"
     ]
    }
   ],
   "source": [
    "StopWords = set(stopwords.words(\"english\"))\n",
    "words = word_tokenize(text)\n",
    "print(words)"
   ]
  },
  {
   "cell_type": "code",
   "execution_count": 4,
   "id": "434c794a",
   "metadata": {},
   "outputs": [],
   "source": [
    "freqtable = dict()\n",
    "for word in words:\n",
    "    word = word.lower()\n",
    "    if word in StopWords:\n",
    "        continue\n",
    "    if word in freqtable:\n",
    "        freqtable[word]+=1\n",
    "    else:\n",
    "        freqtable[word] = 1\n",
    "        "
   ]
  },
  {
   "cell_type": "code",
   "execution_count": 5,
   "id": "fa2571d9",
   "metadata": {},
   "outputs": [
    {
     "name": "stdout",
     "output_type": "stream",
     "text": [
      "[' Hello all, Welcome to Python Programming Academy.', 'Python Programming Academy\\nis a nice platform to learn new programming skills.', 'It is difficult to get enrolled in this Academy.']\n"
     ]
    }
   ],
   "source": [
    "# Creating a dictionary to keep the score\n",
    "# of each sentence\n",
    "sentences = sent_tokenize(text)\n",
    "sentenceValue = dict()\n",
    "\n",
    "for sentence in sentences:\n",
    "    for word, freq in freqtable.items():\n",
    "        if word in sentence.lower():\n",
    "            if sentence in sentenceValue:\n",
    "                sentenceValue[sentence] += freq\n",
    "            else:\n",
    "                sentenceValue[sentence] = freq\n",
    "\n",
    "\n",
    "\n",
    "sumValues = 0\n",
    "for sentence in sentenceValue:\n",
    "    sumValues += sentenceValue[sentence]\n",
    "    \n",
    "                \n",
    "\n",
    "        \n",
    "        \n",
    "print(sentences)\n",
    "    \n"
   ]
  },
  {
   "cell_type": "code",
   "execution_count": 6,
   "id": "1dbe537f",
   "metadata": {},
   "outputs": [],
   "source": [
    "# Average value of a sentence from the original text\n",
    "\n",
    "average = int(sumValues / len(sentenceValue))\n"
   ]
  },
  {
   "cell_type": "code",
   "execution_count": 8,
   "id": "3b2fb0d0",
   "metadata": {},
   "outputs": [
    {
     "name": "stdout",
     "output_type": "stream",
     "text": [
      " Python Programming Academy\n",
      "is a nice platform to learn new programming skills.\n"
     ]
    }
   ],
   "source": [
    "summary = ''\n",
    "\n",
    "for sentence in sentences:\n",
    "    if(sentence in sentenceValue) and (sentenceValue[sentence]>(1.2*average)):\n",
    "        summary +=\" \"+sentence\n",
    "print(summary)"
   ]
  },
  {
   "cell_type": "code",
   "execution_count": null,
   "id": "4a8d452c",
   "metadata": {},
   "outputs": [],
   "source": []
  }
 ],
 "metadata": {
  "kernelspec": {
   "display_name": "Python 3 (ipykernel)",
   "language": "python",
   "name": "python3"
  },
  "language_info": {
   "codemirror_mode": {
    "name": "ipython",
    "version": 3
   },
   "file_extension": ".py",
   "mimetype": "text/x-python",
   "name": "python",
   "nbconvert_exporter": "python",
   "pygments_lexer": "ipython3",
   "version": "3.9.7"
  }
 },
 "nbformat": 4,
 "nbformat_minor": 5
}
