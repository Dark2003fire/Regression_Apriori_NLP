{
 "cells": [
  {
   "cell_type": "code",
   "execution_count": 2,
   "id": "a0eabb60",
   "metadata": {},
   "outputs": [],
   "source": [
    "import warnings\n",
    "warnings.filterwarnings('ignore')\n",
    "\n",
    "import numpy as np\n",
    "import pandas as pd\n",
    "import nltk\n",
    "from nltk.corpus import stopwords\n",
    "from nltk.tokenize import word_tokenize , sent_tokenize\n"
   ]
  },
  {
   "cell_type": "code",
   "execution_count": 3,
   "id": "247e3c11",
   "metadata": {},
   "outputs": [],
   "source": [
    "text = \"\"\"\n",
    "        Hello  , Hi everyone It's Hitesh your lovely data scientists  If you want any help   , feel free\n",
    "        to reach me . Okaayyy Thank you\n",
    "        \n",
    "\n",
    "\"\"\""
   ]
  },
  {
   "cell_type": "code",
   "execution_count": 4,
   "id": "3a4f196b",
   "metadata": {},
   "outputs": [],
   "source": [
    "StopWords = set(stopwords.words(\"english\"))\n",
    "words = word_tokenize(text)\n"
   ]
  },
  {
   "cell_type": "code",
   "execution_count": 6,
   "id": "f0d97b7d",
   "metadata": {},
   "outputs": [
    {
     "name": "stdout",
     "output_type": "stream",
     "text": [
      "['Hello', ',', 'Hi', 'everyone', 'It', \"'s\", 'Hitesh', 'your', 'lovely', 'data', 'scientists', 'If', 'you', 'want', 'any', 'help', ',', 'feel', 'free', 'to', 'reach', 'me', '.', 'Okaayyy', 'Thank', 'you']\n"
     ]
    }
   ],
   "source": [
    "\n",
    "print(words)"
   ]
  },
  {
   "cell_type": "code",
   "execution_count": 7,
   "id": "a4fcd2f7",
   "metadata": {},
   "outputs": [
    {
     "name": "stdout",
     "output_type": "stream",
     "text": [
      "{'hadn', 'didn', 'until', 'very', 'with', 'needn', 'wouldn', 'ourselves', 'yourself', 'o', 'wasn', 'their', 'between', 'your', \"couldn't\", 'them', 'we', \"weren't\", 'more', 'now', 'own', 'who', 'through', 'he', 'under', \"you'll\", 'the', 'than', 'mightn', \"don't\", 'they', 'theirs', 'any', 'just', 'of', 'but', 'she', 'how', 'why', 'where', 'for', 'can', 'being', 'which', 'hasn', 'his', \"mustn't\", 'few', 'm', 's', 'as', 'll', 'hers', 'all', \"doesn't\", 'to', 'about', 'when', 'above', 'no', 'at', 'before', \"you've\", 'himself', 'further', 'is', 'couldn', 'against', 'so', \"that'll\", 'herself', 'not', 'other', 'shouldn', \"shouldn't\", 'been', 'yourselves', 'then', 'are', 'if', 'd', \"hasn't\", \"you're\", 'yours', 'do', 'mustn', 'does', 'themselves', \"won't\", 'myself', \"mightn't\", \"wasn't\", 'haven', \"needn't\", \"aren't\", 'down', 'weren', 'aren', 't', 'its', 've', 'same', 'won', 'and', 'will', 'doing', 'because', \"it's\", \"hadn't\", 'from', 'doesn', 'shan', \"shan't\", 'on', 'most', 'again', 'into', 'over', 'had', 'it', 'have', 'ours', \"you'd\", 'what', 'our', 'in', 'these', 'isn', \"haven't\", 'each', 'once', 'those', 'too', 'only', 'here', 'has', 'itself', 'ma', 'off', 'such', 'an', 'below', 'a', 'i', 'there', 'should', \"wouldn't\", 'that', 'me', \"she's\", 'up', \"didn't\", 'did', 'her', 'you', 'whom', 'were', 'some', 'ain', \"should've\", 'don', \"isn't\", 'was', 'nor', 'this', 'out', 'am', 'y', 'by', 'both', 'him', 'while', 'or', 'having', 'be', 'during', 'my', 'after', 're'}\n"
     ]
    }
   ],
   "source": [
    "print(StopWords)"
   ]
  },
  {
   "cell_type": "code",
   "execution_count": null,
   "id": "6ab1e16b",
   "metadata": {},
   "outputs": [],
   "source": []
  }
 ],
 "metadata": {
  "kernelspec": {
   "display_name": "Python 3 (ipykernel)",
   "language": "python",
   "name": "python3"
  },
  "language_info": {
   "codemirror_mode": {
    "name": "ipython",
    "version": 3
   },
   "file_extension": ".py",
   "mimetype": "text/x-python",
   "name": "python",
   "nbconvert_exporter": "python",
   "pygments_lexer": "ipython3",
   "version": "3.9.7"
  }
 },
 "nbformat": 4,
 "nbformat_minor": 5
}
