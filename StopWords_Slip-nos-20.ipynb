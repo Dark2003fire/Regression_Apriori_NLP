{
 "cells": [
  {
   "cell_type": "markdown",
   "id": "3cad52e3",
   "metadata": {},
   "source": [
    "Consider text paragraph.\"\"\"Hello all, Welcome to Python Programming Academy. Python \n",
    "Programming Academy is a nice platform to learn new programming skills. It is difficult to get enrolled \n",
    "in this Academy.\"\"\"Remove the stopwords. "
   ]
  },
  {
   "cell_type": "code",
   "execution_count": 2,
   "id": "b3a3a81a",
   "metadata": {},
   "outputs": [],
   "source": [
    "# Supress Warnings\n",
    "import warnings\n",
    "warnings.filterwarnings('ignore')\n",
    "\n",
    "#loading all necessary libraries\n",
    "import numpy as np\n",
    "import pandas as pd\n",
    "import nltk\n",
    "from nltk.corpus import stopwords\n",
    "from nltk.tokenize import word_tokenize, sent_tokenize\n",
    "import string\n",
    "import collections\n"
   ]
  },
  {
   "cell_type": "code",
   "execution_count": 3,
   "id": "95fba251",
   "metadata": {},
   "outputs": [],
   "source": [
    "# Input text - to summarize\n",
    "text = \"\"\" Hello all, Welcome to Python Programming Academy. \n",
    "Python Programming Academy is a nice platform to learn new programming skills. \n",
    "It is difficult to get enrolled in this Academy.\"\"\"\n",
    "\n",
    "\n",
    "\n"
   ]
  },
  {
   "cell_type": "code",
   "execution_count": 4,
   "id": "0157a24e",
   "metadata": {},
   "outputs": [],
   "source": [
    "# Tokenizing the text\n",
    "stopWords = set(stopwords.words(\"english\"))\n",
    "words = word_tokenize(text)"
   ]
  },
  {
   "cell_type": "code",
   "execution_count": 5,
   "id": "ed80a838",
   "metadata": {},
   "outputs": [
    {
     "name": "stdout",
     "output_type": "stream",
     "text": [
      "['Hello', 'all', ',', 'Welcome', 'to', 'Python', 'Programming', 'Academy', '.', 'Python', 'Programming', 'Academy', 'is', 'a', 'nice', 'platform', 'to', 'learn', 'new', 'programming', 'skills', '.', 'It', 'is', 'difficult', 'to', 'get', 'enrolled', 'in', 'this', 'Academy', '.']\n"
     ]
    }
   ],
   "source": [
    "print(words)"
   ]
  },
  {
   "cell_type": "code",
   "execution_count": 6,
   "id": "e2d807f8",
   "metadata": {},
   "outputs": [],
   "source": [
    "# Creating a frequency table to keep the\n",
    "# score of each word\n",
    "\n",
    "freqTable = dict()\n",
    "for word in words:\n",
    "    word = word.lower()\n",
    "    if word in stopWords:\n",
    "        continue\n",
    "    if word in freqTable:\n",
    "        freqTable[word] += 1\n",
    "    else:\n",
    "        freqTable[word] = 1\n",
    "        "
   ]
  },
  {
   "cell_type": "code",
   "execution_count": 7,
   "id": "29d79564",
   "metadata": {},
   "outputs": [],
   "source": [
    "# Creating a dictionary to keep the score\n",
    "# of each sentence\n",
    "sentences = sent_tokenize(text)\n",
    "sentenceValue = dict()\n",
    "\n",
    "for sentence in sentences:\n",
    "    for word, freq in freqTable.items():\n",
    "        if word in sentence.lower():\n",
    "            if sentence in sentenceValue:\n",
    "                sentenceValue[sentence] += freq\n",
    "            else:\n",
    "                sentenceValue[sentence] = freq\n",
    "\n",
    "\n",
    "\n",
    "sumValues = 0\n",
    "for sentence in sentenceValue:\n",
    "    sumValues += sentenceValue[sentence]\n",
    "    \n",
    "    "
   ]
  },
  {
   "cell_type": "code",
   "execution_count": null,
   "id": "f771015c",
   "metadata": {},
   "outputs": [],
   "source": []
  }
 ],
 "metadata": {
  "kernelspec": {
   "display_name": "Python 3 (ipykernel)",
   "language": "python",
   "name": "python3"
  },
  "language_info": {
   "codemirror_mode": {
    "name": "ipython",
    "version": 3
   },
   "file_extension": ".py",
   "mimetype": "text/x-python",
   "name": "python",
   "nbconvert_exporter": "python",
   "pygments_lexer": "ipython3",
   "version": "3.9.7"
  }
 },
 "nbformat": 4,
 "nbformat_minor": 5
}
